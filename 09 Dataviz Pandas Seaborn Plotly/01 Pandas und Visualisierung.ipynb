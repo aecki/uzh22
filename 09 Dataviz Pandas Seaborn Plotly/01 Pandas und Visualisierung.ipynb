{
 "cells": [
  {
   "cell_type": "markdown",
   "metadata": {},
   "source": [
    "# Visualisierung mit Pandas"
   ]
  },
  {
   "cell_type": "markdown",
   "metadata": {},
   "source": [
    "# Beispiel Brutto Inlands Produkt Basel\n",
    "- https://opendata.swiss/de/organization/kanton-basel-stadt\n",
    "- https://opendata.swiss/de/dataset/bruttoinlandprodukt\n",
    "- https://statabs.github.io/indikatoren/chart-details.html?id=4323"
   ]
  },
  {
   "cell_type": "markdown",
   "metadata": {},
   "source": [
    "## Datei öffnen"
   ]
  },
  {
   "cell_type": "code",
   "execution_count": 2,
   "metadata": {},
   "outputs": [],
   "source": [
    "import pandas as pd\n",
    "df = pd.read_csv(\"bip_basel.csv\")"
   ]
  },
  {
   "cell_type": "markdown",
   "metadata": {},
   "source": [
    "## Tabellen"
   ]
  },
  {
   "cell_type": "code",
   "execution_count": 3,
   "metadata": {},
   "outputs": [
    {
     "data": {
      "text/html": [
       "<div>\n",
       "<style scoped>\n",
       "    .dataframe tbody tr th:only-of-type {\n",
       "        vertical-align: middle;\n",
       "    }\n",
       "\n",
       "    .dataframe tbody tr th {\n",
       "        vertical-align: top;\n",
       "    }\n",
       "\n",
       "    .dataframe thead th {\n",
       "        text-align: right;\n",
       "    }\n",
       "</style>\n",
       "<table border=\"1\" class=\"dataframe\">\n",
       "  <thead>\n",
       "    <tr style=\"text-align: right;\">\n",
       "      <th></th>\n",
       "      <th>Jahr</th>\n",
       "      <th>Bruttoinlandprodukt</th>\n",
       "    </tr>\n",
       "  </thead>\n",
       "  <tbody>\n",
       "    <tr>\n",
       "      <th>0</th>\n",
       "      <td>1980</td>\n",
       "      <td>8219.2</td>\n",
       "    </tr>\n",
       "    <tr>\n",
       "      <th>1</th>\n",
       "      <td>1981</td>\n",
       "      <td>8754.3</td>\n",
       "    </tr>\n",
       "    <tr>\n",
       "      <th>2</th>\n",
       "      <td>1982</td>\n",
       "      <td>9459.6</td>\n",
       "    </tr>\n",
       "    <tr>\n",
       "      <th>3</th>\n",
       "      <td>1983</td>\n",
       "      <td>9879.3</td>\n",
       "    </tr>\n",
       "    <tr>\n",
       "      <th>4</th>\n",
       "      <td>1984</td>\n",
       "      <td>10619.4</td>\n",
       "    </tr>\n",
       "    <tr>\n",
       "      <th>5</th>\n",
       "      <td>1985</td>\n",
       "      <td>11380.8</td>\n",
       "    </tr>\n",
       "    <tr>\n",
       "      <th>6</th>\n",
       "      <td>1986</td>\n",
       "      <td>12410.0</td>\n",
       "    </tr>\n",
       "    <tr>\n",
       "      <th>7</th>\n",
       "      <td>1987</td>\n",
       "      <td>12691.6</td>\n",
       "    </tr>\n",
       "    <tr>\n",
       "      <th>8</th>\n",
       "      <td>1988</td>\n",
       "      <td>13522.6</td>\n",
       "    </tr>\n",
       "    <tr>\n",
       "      <th>9</th>\n",
       "      <td>1989</td>\n",
       "      <td>14709.8</td>\n",
       "    </tr>\n",
       "    <tr>\n",
       "      <th>10</th>\n",
       "      <td>1990</td>\n",
       "      <td>15764.0</td>\n",
       "    </tr>\n",
       "    <tr>\n",
       "      <th>11</th>\n",
       "      <td>1991</td>\n",
       "      <td>16620.6</td>\n",
       "    </tr>\n",
       "    <tr>\n",
       "      <th>12</th>\n",
       "      <td>1992</td>\n",
       "      <td>17136.9</td>\n",
       "    </tr>\n",
       "    <tr>\n",
       "      <th>13</th>\n",
       "      <td>1993</td>\n",
       "      <td>17797.8</td>\n",
       "    </tr>\n",
       "    <tr>\n",
       "      <th>14</th>\n",
       "      <td>1994</td>\n",
       "      <td>18379.3</td>\n",
       "    </tr>\n",
       "    <tr>\n",
       "      <th>15</th>\n",
       "      <td>1995</td>\n",
       "      <td>18521.8</td>\n",
       "    </tr>\n",
       "    <tr>\n",
       "      <th>16</th>\n",
       "      <td>1996</td>\n",
       "      <td>18233.9</td>\n",
       "    </tr>\n",
       "    <tr>\n",
       "      <th>17</th>\n",
       "      <td>1997</td>\n",
       "      <td>18056.4</td>\n",
       "    </tr>\n",
       "    <tr>\n",
       "      <th>18</th>\n",
       "      <td>1998</td>\n",
       "      <td>18615.2</td>\n",
       "    </tr>\n",
       "    <tr>\n",
       "      <th>19</th>\n",
       "      <td>1999</td>\n",
       "      <td>18996.0</td>\n",
       "    </tr>\n",
       "    <tr>\n",
       "      <th>20</th>\n",
       "      <td>2000</td>\n",
       "      <td>20505.1</td>\n",
       "    </tr>\n",
       "    <tr>\n",
       "      <th>21</th>\n",
       "      <td>2001</td>\n",
       "      <td>21986.8</td>\n",
       "    </tr>\n",
       "    <tr>\n",
       "      <th>22</th>\n",
       "      <td>2002</td>\n",
       "      <td>22928.5</td>\n",
       "    </tr>\n",
       "    <tr>\n",
       "      <th>23</th>\n",
       "      <td>2003</td>\n",
       "      <td>23895.1</td>\n",
       "    </tr>\n",
       "    <tr>\n",
       "      <th>24</th>\n",
       "      <td>2004</td>\n",
       "      <td>25172.3</td>\n",
       "    </tr>\n",
       "    <tr>\n",
       "      <th>25</th>\n",
       "      <td>2005</td>\n",
       "      <td>26267.4</td>\n",
       "    </tr>\n",
       "    <tr>\n",
       "      <th>26</th>\n",
       "      <td>2006</td>\n",
       "      <td>28023.9</td>\n",
       "    </tr>\n",
       "    <tr>\n",
       "      <th>27</th>\n",
       "      <td>2007</td>\n",
       "      <td>29854.1</td>\n",
       "    </tr>\n",
       "    <tr>\n",
       "      <th>28</th>\n",
       "      <td>2008</td>\n",
       "      <td>30588.9</td>\n",
       "    </tr>\n",
       "    <tr>\n",
       "      <th>29</th>\n",
       "      <td>2009</td>\n",
       "      <td>30213.9</td>\n",
       "    </tr>\n",
       "    <tr>\n",
       "      <th>30</th>\n",
       "      <td>2010</td>\n",
       "      <td>30636.7</td>\n",
       "    </tr>\n",
       "    <tr>\n",
       "      <th>31</th>\n",
       "      <td>2011</td>\n",
       "      <td>31361.9</td>\n",
       "    </tr>\n",
       "    <tr>\n",
       "      <th>32</th>\n",
       "      <td>2012</td>\n",
       "      <td>31957.7</td>\n",
       "    </tr>\n",
       "    <tr>\n",
       "      <th>33</th>\n",
       "      <td>2013</td>\n",
       "      <td>31800.9</td>\n",
       "    </tr>\n",
       "    <tr>\n",
       "      <th>34</th>\n",
       "      <td>2014</td>\n",
       "      <td>32254.0</td>\n",
       "    </tr>\n",
       "    <tr>\n",
       "      <th>35</th>\n",
       "      <td>2015</td>\n",
       "      <td>32291.8</td>\n",
       "    </tr>\n",
       "  </tbody>\n",
       "</table>\n",
       "</div>"
      ],
      "text/plain": [
       "    Jahr  Bruttoinlandprodukt\n",
       "0   1980               8219.2\n",
       "1   1981               8754.3\n",
       "2   1982               9459.6\n",
       "3   1983               9879.3\n",
       "4   1984              10619.4\n",
       "5   1985              11380.8\n",
       "6   1986              12410.0\n",
       "7   1987              12691.6\n",
       "8   1988              13522.6\n",
       "9   1989              14709.8\n",
       "10  1990              15764.0\n",
       "11  1991              16620.6\n",
       "12  1992              17136.9\n",
       "13  1993              17797.8\n",
       "14  1994              18379.3\n",
       "15  1995              18521.8\n",
       "16  1996              18233.9\n",
       "17  1997              18056.4\n",
       "18  1998              18615.2\n",
       "19  1999              18996.0\n",
       "20  2000              20505.1\n",
       "21  2001              21986.8\n",
       "22  2002              22928.5\n",
       "23  2003              23895.1\n",
       "24  2004              25172.3\n",
       "25  2005              26267.4\n",
       "26  2006              28023.9\n",
       "27  2007              29854.1\n",
       "28  2008              30588.9\n",
       "29  2009              30213.9\n",
       "30  2010              30636.7\n",
       "31  2011              31361.9\n",
       "32  2012              31957.7\n",
       "33  2013              31800.9\n",
       "34  2014              32254.0\n",
       "35  2015              32291.8"
      ]
     },
     "execution_count": 3,
     "metadata": {},
     "output_type": "execute_result"
    }
   ],
   "source": [
    "df"
   ]
  },
  {
   "cell_type": "markdown",
   "metadata": {},
   "source": [
    "### Nur den oberen Teil anschauen bei vielen Daten"
   ]
  },
  {
   "cell_type": "code",
   "execution_count": 15,
   "metadata": {},
   "outputs": [
    {
     "data": {
      "text/html": [
       "<div>\n",
       "<style scoped>\n",
       "    .dataframe tbody tr th:only-of-type {\n",
       "        vertical-align: middle;\n",
       "    }\n",
       "\n",
       "    .dataframe tbody tr th {\n",
       "        vertical-align: top;\n",
       "    }\n",
       "\n",
       "    .dataframe thead th {\n",
       "        text-align: right;\n",
       "    }\n",
       "</style>\n",
       "<table border=\"1\" class=\"dataframe\">\n",
       "  <thead>\n",
       "    <tr style=\"text-align: right;\">\n",
       "      <th></th>\n",
       "      <th>Jahr</th>\n",
       "      <th>Bruttoinlandprodukt</th>\n",
       "    </tr>\n",
       "  </thead>\n",
       "  <tbody>\n",
       "    <tr>\n",
       "      <th>0</th>\n",
       "      <td>1980</td>\n",
       "      <td>8219.2</td>\n",
       "    </tr>\n",
       "    <tr>\n",
       "      <th>1</th>\n",
       "      <td>1981</td>\n",
       "      <td>8754.3</td>\n",
       "    </tr>\n",
       "    <tr>\n",
       "      <th>2</th>\n",
       "      <td>1982</td>\n",
       "      <td>9459.6</td>\n",
       "    </tr>\n",
       "    <tr>\n",
       "      <th>3</th>\n",
       "      <td>1983</td>\n",
       "      <td>9879.3</td>\n",
       "    </tr>\n",
       "    <tr>\n",
       "      <th>4</th>\n",
       "      <td>1984</td>\n",
       "      <td>10619.4</td>\n",
       "    </tr>\n",
       "  </tbody>\n",
       "</table>\n",
       "</div>"
      ],
      "text/plain": [
       "   Jahr  Bruttoinlandprodukt\n",
       "0  1980               8219.2\n",
       "1  1981               8754.3\n",
       "2  1982               9459.6\n",
       "3  1983               9879.3\n",
       "4  1984              10619.4"
      ]
     },
     "execution_count": 15,
     "metadata": {},
     "output_type": "execute_result"
    }
   ],
   "source": [
    "df.head()"
   ]
  },
  {
   "cell_type": "markdown",
   "metadata": {},
   "source": [
    "## Linegraph"
   ]
  },
  {
   "cell_type": "code",
   "execution_count": 4,
   "metadata": {},
   "outputs": [
    {
     "data": {
      "text/plain": [
       "<AxesSubplot:xlabel='Jahr'>"
      ]
     },
     "execution_count": 4,
     "metadata": {},
     "output_type": "execute_result"
    },
    {
     "data": {
      "image/png": "[encoded data removed]",
      "text/plain": [
       "<Figure size 432x288 with 1 Axes>"
      ]
     },
     "metadata": {
      "needs_background": "light"
     },
     "output_type": "display_data"
    }
   ],
   "source": [
    "df.plot(y=\"Bruttoinlandprodukt\",x=\"Jahr\")"
   ]
  },
  {
   "cell_type": "markdown",
   "metadata": {},
   "source": [
    "## Barchart"
   ]
  },
  {
   "cell_type": "code",
   "execution_count": 5,
   "metadata": {},
   "outputs": [
    {
     "data": {
      "text/plain": [
       "<AxesSubplot:xlabel='Jahr'>"
      ]
     },
     "execution_count": 5,
     "metadata": {},
     "output_type": "execute_result"
    },
    {
     "data": {
      "image/png": "[encoded data removed]",
      "text/plain": [
       "<Figure size 432x288 with 1 Axes>"
      ]
     },
     "metadata": {
      "needs_background": "light"
     },
     "output_type": "display_data"
    }
   ],
   "source": [
    "df.plot(y=\"Bruttoinlandprodukt\",x=\"Jahr\", kind=\"bar\", colormap=\"gray\")"
   ]
  },
  {
   "cell_type": "markdown",
   "metadata": {},
   "source": [
    "### Übung: Was passiert wenn ich die colormap weglasse?"
   ]
  },
  {
   "cell_type": "markdown",
   "metadata": {},
   "source": [
    "## Columnchart"
   ]
  },
  {
   "cell_type": "code",
   "execution_count": 6,
   "metadata": {},
   "outputs": [
    {
     "data": {
      "text/plain": [
       "<AxesSubplot:ylabel='Jahr'>"
      ]
     },
     "execution_count": 6,
     "metadata": {},
     "output_type": "execute_result"
    },
    {
     "data": {
      "image/png": "[encoded data removed]",
      "text/plain": [
       "<Figure size 432x288 with 1 Axes>"
      ]
     },
     "metadata": {
      "needs_background": "light"
     },
     "output_type": "display_data"
    }
   ],
   "source": [
    "df.plot(y=\"Bruttoinlandprodukt\",x=\"Jahr\", kind=\"barh\", colormap=\"gray\")"
   ]
  },
  {
   "cell_type": "markdown",
   "metadata": {},
   "source": [
    "## Scatterplots"
   ]
  },
  {
   "cell_type": "code",
   "execution_count": 7,
   "metadata": {},
   "outputs": [
    {
     "data": {
      "text/plain": [
       "<AxesSubplot:xlabel='Jahr', ylabel='Bruttoinlandprodukt'>"
      ]
     },
     "execution_count": 7,
     "metadata": {},
     "output_type": "execute_result"
    },
    {
     "data": {
      "image/png": "[encoded data removed]",
      "text/plain": [
       "<Figure size 432x288 with 1 Axes>"
      ]
     },
     "metadata": {
      "needs_background": "light"
     },
     "output_type": "display_data"
    }
   ],
   "source": [
    "df.plot(y=\"Bruttoinlandprodukt\",x=\"Jahr\", kind=\"scatter\")"
   ]
  },
  {
   "cell_type": "markdown",
   "metadata": {},
   "source": [
    "## Filled Linegaph (Area)"
   ]
  },
  {
   "cell_type": "code",
   "execution_count": 8,
   "metadata": {},
   "outputs": [
    {
     "data": {
      "text/plain": [
       "<AxesSubplot:xlabel='Jahr'>"
      ]
     },
     "execution_count": 8,
     "metadata": {},
     "output_type": "execute_result"
    },
    {
     "data": {
      "image/png": "[encoded data removed]",
      "text/plain": [
       "<Figure size 432x288 with 1 Axes>"
      ]
     },
     "metadata": {
      "needs_background": "light"
     },
     "output_type": "display_data"
    }
   ],
   "source": [
    "df.plot(y=\"Bruttoinlandprodukt\",x=\"Jahr\", kind=\"area\")"
   ]
  },
  {
   "cell_type": "markdown",
   "metadata": {},
   "source": [
    "### Größe ändern"
   ]
  },
  {
   "cell_type": "code",
   "execution_count": 9,
   "metadata": {},
   "outputs": [
    {
     "data": {
      "text/plain": [
       "<AxesSubplot:xlabel='Jahr'>"
      ]
     },
     "execution_count": 9,
     "metadata": {},
     "output_type": "execute_result"
    },
    {
     "data": {
      "image/png": "[encoded data removed]",
      "text/plain": [
       "<Figure size 1440x720 with 1 Axes>"
      ]
     },
     "metadata": {
      "needs_background": "light"
     },
     "output_type": "display_data"
    }
   ],
   "source": [
    "df.plot(y=\"Bruttoinlandprodukt\",x=\"Jahr\", kind=\"area\", figsize=(20,10))"
   ]
  },
  {
   "cell_type": "markdown",
   "metadata": {},
   "source": [
    "### Titel setzen"
   ]
  },
  {
   "cell_type": "code",
   "execution_count": 10,
   "metadata": {},
   "outputs": [
    {
     "data": {
      "text/plain": [
       "<AxesSubplot:title={'center':'BIP Basel 1980-2015'}, xlabel='Jahr'>"
      ]
     },
     "execution_count": 10,
     "metadata": {},
     "output_type": "execute_result"
    },
    {
     "data": {
      "image/png": "[encoded data removed]",
      "text/plain": [
       "<Figure size 432x288 with 1 Axes>"
      ]
     },
     "metadata": {
      "needs_background": "light"
     },
     "output_type": "display_data"
    }
   ],
   "source": [
    "df.plot(y=\"Bruttoinlandprodukt\",x=\"Jahr\", kind=\"area\", title=\"BIP Basel 1980-2015\")"
   ]
  },
  {
   "cell_type": "markdown",
   "metadata": {},
   "source": [
    "### Legende Weglassen"
   ]
  },
  {
   "cell_type": "code",
   "execution_count": 11,
   "metadata": {},
   "outputs": [
    {
     "data": {
      "text/plain": [
       "<AxesSubplot:title={'center':'BIP Basel 1980-2015'}, xlabel='Jahr'>"
      ]
     },
     "execution_count": 11,
     "metadata": {},
     "output_type": "execute_result"
    },
    {
     "data": {
      "image/png": "[encoded data removed]",
      "text/plain": [
       "<Figure size 432x288 with 1 Axes>"
      ]
     },
     "metadata": {
      "needs_background": "light"
     },
     "output_type": "display_data"
    }
   ],
   "source": [
    "df.plot(y=\"Bruttoinlandprodukt\",x=\"Jahr\", kind=\"area\", title=\"BIP Basel 1980-2015\", legend=False)"
   ]
  },
  {
   "cell_type": "markdown",
   "metadata": {},
   "source": [
    "### Rahmen weglassen"
   ]
  },
  {
   "cell_type": "code",
   "execution_count": 12,
   "metadata": {},
   "outputs": [
    {
     "data": {
      "image/png": "[encoded data removed]",
      "text/plain": [
       "<Figure size 432x288 with 1 Axes>"
      ]
     },
     "metadata": {
      "needs_background": "light"
     },
     "output_type": "display_data"
    }
   ],
   "source": [
    "from pylab import *\n",
    "ax = df.plot(y=\"Bruttoinlandprodukt\",x=\"Jahr\", kind=\"area\", title=\"BIP Basel 1980-2015\", legend=False)\n",
    "ax.set_frame_on(False)\n"
   ]
  },
  {
   "cell_type": "markdown",
   "metadata": {},
   "source": [
    "### Schriftgröße ändern"
   ]
  },
  {
   "cell_type": "code",
   "execution_count": 13,
   "metadata": {},
   "outputs": [
    {
     "data": {
      "image/png": "[encoded data removed]",
      "text/plain": [
       "<Figure size 432x288 with 1 Axes>"
      ]
     },
     "metadata": {
      "needs_background": "light"
     },
     "output_type": "display_data"
    }
   ],
   "source": [
    "ax = df.plot(y=\"Bruttoinlandprodukt\",x=\"Jahr\", kind=\"area\", title=\"BIP Basel 1980-2015\", legend=False,fontsize=15)\n",
    "ax.title.set_size(15)\n"
   ]
  },
  {
   "cell_type": "markdown",
   "metadata": {},
   "source": [
    "### Schriftart ändern"
   ]
  },
  {
   "cell_type": "code",
   "execution_count": 14,
   "metadata": {},
   "outputs": [
    {
     "data": {
      "image/png": "[encoded data removed]",
      "text/plain": [
       "<Figure size 432x288 with 1 Axes>"
      ]
     },
     "metadata": {
      "needs_background": "light"
     },
     "output_type": "display_data"
    }
   ],
   "source": [
    "ax = df.plot(y=\"Bruttoinlandprodukt\",x=\"Jahr\", kind=\"area\", legend=False,fontsize=15)\n",
    "\n",
    "# Change the y axis label to Arial\n",
    "ax.set_ylabel(\"BIP in Mio\", fontname=\"Helvetica\", fontsize=20)\n",
    "ax.set_xlabel(\"Jahre\", fontsize=20)\n",
    "\n",
    "# Set the title to Comic Sans\n",
    "ax.set_title(\"BIP Basel 1980-2015\", fontname='Comic Sans MS', fontsize=18)\n",
    "\n",
    "# Set the font name for axis tick labels to be Comic Sans\n",
    "for tick in ax.get_xticklabels():\n",
    "    tick.set_fontname(\"Comic Sans MS\")\n",
    "for tick in ax.get_yticklabels():\n",
    "    tick.set_fontname(\"Comic Sans MS\")\n"
   ]
  },
  {
   "cell_type": "markdown",
   "metadata": {},
   "source": [
    "### Alle Schriften auflisten"
   ]
  },
  {
   "cell_type": "code",
   "execution_count": 15,
   "metadata": {},
   "outputs": [
    {
     "data": {
      "text/html": [
       "<div style='column-count: 2;'><p>.Aqua Kana: <span style='font-family:.Aqua Kana; font-size: 24px;'>.Aqua Kana</p>\n",
       "<p>.Keyboard: <span style='font-family:.Keyboard; font-size: 24px;'>.Keyboard</p>\n",
       "<p>.New York: <span style='font-family:.New York; font-size: 24px;'>.New York</p>\n",
       "<p>.SF Arabic: <span style='font-family:.SF Arabic; font-size: 24px;'>.SF Arabic</p>\n",
       "<p>.SF Compact: <span style='font-family:.SF Compact; font-size: 24px;'>.SF Compact</p>\n",
       "<p>.SF Compact Rounded: <span style='font-family:.SF Compact Rounded; font-size: 24px;'>.SF Compact Rounded</p>\n",
       "<p>.SF NS Mono: <span style='font-family:.SF NS Mono; font-size: 24px;'>.SF NS Mono</p>\n",
       "<p>.SF NS Rounded: <span style='font-family:.SF NS Rounded; font-size: 24px;'>.SF NS Rounded</p>\n",
       "<p>Academy Engraved LET: <span style='font-family:Academy Engraved LET; font-size: 24px;'>Academy Engraved LET</p>\n",
       "<p>Al Bayan: <span style='font-family:Al Bayan; font-size: 24px;'>Al Bayan</p>\n",
       "<p>Al Nile: <span style='font-family:Al Nile; font-size: 24px;'>Al Nile</p>\n",
       "<p>Al Tarikh: <span style='font-family:Al Tarikh; font-size: 24px;'>Al Tarikh</p>\n",
       "<p>American Typewriter: <span style='font-family:American Typewriter; font-size: 24px;'>American Typewriter</p>\n",
       "<p>Andale Mono: <span style='font-family:Andale Mono; font-size: 24px;'>Andale Mono</p>\n",
       "<p>Apple Braille: <span style='font-family:Apple Braille; font-size: 24px;'>Apple Braille</p>\n",
       "<p>Apple Chancery: <span style='font-family:Apple Chancery; font-size: 24px;'>Apple Chancery</p>\n",
       "<p>Apple SD Gothic Neo: <span style='font-family:Apple SD Gothic Neo; font-size: 24px;'>Apple SD Gothic Neo</p>\n",
       "<p>Apple Symbols: <span style='font-family:Apple Symbols; font-size: 24px;'>Apple Symbols</p>\n",
       "<p>AppleGothic: <span style='font-family:AppleGothic; font-size: 24px;'>AppleGothic</p>\n",
       "<p>AppleMyungjo: <span style='font-family:AppleMyungjo; font-size: 24px;'>AppleMyungjo</p>\n",
       "<p>Arial: <span style='font-family:Arial; font-size: 24px;'>Arial</p>\n",
       "<p>Arial Black: <span style='font-family:Arial Black; font-size: 24px;'>Arial Black</p>\n",
       "<p>Arial Hebrew: <span style='font-family:Arial Hebrew; font-size: 24px;'>Arial Hebrew</p>\n",
       "<p>Arial Narrow: <span style='font-family:Arial Narrow; font-size: 24px;'>Arial Narrow</p>\n",
       "<p>Arial Rounded MT Bold: <span style='font-family:Arial Rounded MT Bold; font-size: 24px;'>Arial Rounded MT Bold</p>\n",
       "<p>Arial Unicode MS: <span style='font-family:Arial Unicode MS; font-size: 24px;'>Arial Unicode MS</p>\n",
       "<p>Athelas: <span style='font-family:Athelas; font-size: 24px;'>Athelas</p>\n",
       "<p>Avenir: <span style='font-family:Avenir; font-size: 24px;'>Avenir</p>\n",
       "<p>Avenir Next: <span style='font-family:Avenir Next; font-size: 24px;'>Avenir Next</p>\n",
       "<p>Avenir Next Condensed: <span style='font-family:Avenir Next Condensed; font-size: 24px;'>Avenir Next Condensed</p>\n",
       "<p>Ayuthaya: <span style='font-family:Ayuthaya; font-size: 24px;'>Ayuthaya</p>\n",
       "<p>Baghdad: <span style='font-family:Baghdad; font-size: 24px;'>Baghdad</p>\n",
       "<p>Bangla MN: <span style='font-family:Bangla MN; font-size: 24px;'>Bangla MN</p>\n",
       "<p>Bangla Sangam MN: <span style='font-family:Bangla Sangam MN; font-size: 24px;'>Bangla Sangam MN</p>\n",
       "<p>Baskerville: <span style='font-family:Baskerville; font-size: 24px;'>Baskerville</p>\n",
       "<p>Beirut: <span style='font-family:Beirut; font-size: 24px;'>Beirut</p>\n",
       "<p>Big Caslon: <span style='font-family:Big Caslon; font-size: 24px;'>Big Caslon</p>\n",
       "<p>Bodoni 72: <span style='font-family:Bodoni 72; font-size: 24px;'>Bodoni 72</p>\n",
       "<p>Bodoni 72 Oldstyle: <span style='font-family:Bodoni 72 Oldstyle; font-size: 24px;'>Bodoni 72 Oldstyle</p>\n",
       "<p>Bodoni 72 Smallcaps: <span style='font-family:Bodoni 72 Smallcaps; font-size: 24px;'>Bodoni 72 Smallcaps</p>\n",
       "<p>Bodoni Ornaments: <span style='font-family:Bodoni Ornaments; font-size: 24px;'>Bodoni Ornaments</p>\n",
       "<p>Bradley Hand: <span style='font-family:Bradley Hand; font-size: 24px;'>Bradley Hand</p>\n",
       "<p>Brush Script MT: <span style='font-family:Brush Script MT; font-size: 24px;'>Brush Script MT</p>\n",
       "<p>Chalkboard: <span style='font-family:Chalkboard; font-size: 24px;'>Chalkboard</p>\n",
       "<p>Chalkboard SE: <span style='font-family:Chalkboard SE; font-size: 24px;'>Chalkboard SE</p>\n",
       "<p>Chalkduster: <span style='font-family:Chalkduster; font-size: 24px;'>Chalkduster</p>\n",
       "<p>Charter: <span style='font-family:Charter; font-size: 24px;'>Charter</p>\n",
       "<p>Cochin: <span style='font-family:Cochin; font-size: 24px;'>Cochin</p>\n",
       "<p>Comic Sans MS: <span style='font-family:Comic Sans MS; font-size: 24px;'>Comic Sans MS</p>\n",
       "<p>Copperplate: <span style='font-family:Copperplate; font-size: 24px;'>Copperplate</p>\n",
       "<p>Corsiva Hebrew: <span style='font-family:Corsiva Hebrew; font-size: 24px;'>Corsiva Hebrew</p>\n",
       "<p>Courier: <span style='font-family:Courier; font-size: 24px;'>Courier</p>\n",
       "<p>Courier New: <span style='font-family:Courier New; font-size: 24px;'>Courier New</p>\n",
       "<p>DIN Alternate: <span style='font-family:DIN Alternate; font-size: 24px;'>DIN Alternate</p>\n",
       "<p>DIN Condensed: <span style='font-family:DIN Condensed; font-size: 24px;'>DIN Condensed</p>\n",
       "<p>Damascus: <span style='font-family:Damascus; font-size: 24px;'>Damascus</p>\n",
       "<p>DecoType Naskh: <span style='font-family:DecoType Naskh; font-size: 24px;'>DecoType Naskh</p>\n",
       "<p>DejaVu Sans: <span style='font-family:DejaVu Sans; font-size: 24px;'>DejaVu Sans</p>\n",
       "<p>DejaVu Sans Display: <span style='font-family:DejaVu Sans Display; font-size: 24px;'>DejaVu Sans Display</p>\n",
       "<p>DejaVu Sans Mono: <span style='font-family:DejaVu Sans Mono; font-size: 24px;'>DejaVu Sans Mono</p>\n",
       "<p>DejaVu Serif: <span style='font-family:DejaVu Serif; font-size: 24px;'>DejaVu Serif</p>\n",
       "<p>DejaVu Serif Display: <span style='font-family:DejaVu Serif Display; font-size: 24px;'>DejaVu Serif Display</p>\n",
       "<p>Devanagari MT: <span style='font-family:Devanagari MT; font-size: 24px;'>Devanagari MT</p>\n",
       "<p>Devanagari Sangam MN: <span style='font-family:Devanagari Sangam MN; font-size: 24px;'>Devanagari Sangam MN</p>\n",
       "<p>Didot: <span style='font-family:Didot; font-size: 24px;'>Didot</p>\n",
       "<p>Diwan Kufi: <span style='font-family:Diwan Kufi; font-size: 24px;'>Diwan Kufi</p>\n",
       "<p>Diwan Thuluth: <span style='font-family:Diwan Thuluth; font-size: 24px;'>Diwan Thuluth</p>\n",
       "<p>Euphemia UCAS: <span style='font-family:Euphemia UCAS; font-size: 24px;'>Euphemia UCAS</p>\n",
       "<p>Farah: <span style='font-family:Farah; font-size: 24px;'>Farah</p>\n",
       "<p>Farisi: <span style='font-family:Farisi; font-size: 24px;'>Farisi</p>\n",
       "<p>Futura: <span style='font-family:Futura; font-size: 24px;'>Futura</p>\n",
       "<p>Galvji: <span style='font-family:Galvji; font-size: 24px;'>Galvji</p>\n",
       "<p>Geeza Pro: <span style='font-family:Geeza Pro; font-size: 24px;'>Geeza Pro</p>\n",
       "<p>Geneva: <span style='font-family:Geneva; font-size: 24px;'>Geneva</p>\n",
       "<p>Georgia: <span style='font-family:Georgia; font-size: 24px;'>Georgia</p>\n",
       "<p>Gill Sans: <span style='font-family:Gill Sans; font-size: 24px;'>Gill Sans</p>\n",
       "<p>Gujarati MT: <span style='font-family:Gujarati MT; font-size: 24px;'>Gujarati MT</p>\n",
       "<p>Gujarati Sangam MN: <span style='font-family:Gujarati Sangam MN; font-size: 24px;'>Gujarati Sangam MN</p>\n",
       "<p>Gurmukhi MN: <span style='font-family:Gurmukhi MN; font-size: 24px;'>Gurmukhi MN</p>\n",
       "<p>Gurmukhi MT: <span style='font-family:Gurmukhi MT; font-size: 24px;'>Gurmukhi MT</p>\n",
       "<p>Gurmukhi Sangam MN: <span style='font-family:Gurmukhi Sangam MN; font-size: 24px;'>Gurmukhi Sangam MN</p>\n",
       "<p>Heiti TC: <span style='font-family:Heiti TC; font-size: 24px;'>Heiti TC</p>\n",
       "<p>Helvetica: <span style='font-family:Helvetica; font-size: 24px;'>Helvetica</p>\n",
       "<p>Helvetica Neue: <span style='font-family:Helvetica Neue; font-size: 24px;'>Helvetica Neue</p>\n",
       "<p>Herculanum: <span style='font-family:Herculanum; font-size: 24px;'>Herculanum</p>\n",
       "<p>Hiragino Maru Gothic Pro: <span style='font-family:Hiragino Maru Gothic Pro; font-size: 24px;'>Hiragino Maru Gothic Pro</p>\n",
       "<p>Hiragino Mincho ProN: <span style='font-family:Hiragino Mincho ProN; font-size: 24px;'>Hiragino Mincho ProN</p>\n",
       "<p>Hiragino Sans: <span style='font-family:Hiragino Sans; font-size: 24px;'>Hiragino Sans</p>\n",
       "<p>Hiragino Sans GB: <span style='font-family:Hiragino Sans GB; font-size: 24px;'>Hiragino Sans GB</p>\n",
       "<p>Hoefler Text: <span style='font-family:Hoefler Text; font-size: 24px;'>Hoefler Text</p>\n",
       "<p>ITF Devanagari: <span style='font-family:ITF Devanagari; font-size: 24px;'>ITF Devanagari</p>\n",
       "<p>Impact: <span style='font-family:Impact; font-size: 24px;'>Impact</p>\n",
       "<p>InaiMathi: <span style='font-family:InaiMathi; font-size: 24px;'>InaiMathi</p>\n",
       "<p>Iowan Old Style: <span style='font-family:Iowan Old Style; font-size: 24px;'>Iowan Old Style</p>\n",
       "<p>Kailasa: <span style='font-family:Kailasa; font-size: 24px;'>Kailasa</p>\n",
       "<p>Kannada MN: <span style='font-family:Kannada MN; font-size: 24px;'>Kannada MN</p>\n",
       "<p>Kannada Sangam MN: <span style='font-family:Kannada Sangam MN; font-size: 24px;'>Kannada Sangam MN</p>\n",
       "<p>Kefa: <span style='font-family:Kefa; font-size: 24px;'>Kefa</p>\n",
       "<p>Khmer MN: <span style='font-family:Khmer MN; font-size: 24px;'>Khmer MN</p>\n",
       "<p>Khmer Sangam MN: <span style='font-family:Khmer Sangam MN; font-size: 24px;'>Khmer Sangam MN</p>\n",
       "<p>Kohinoor Bangla: <span style='font-family:Kohinoor Bangla; font-size: 24px;'>Kohinoor Bangla</p>\n",
       "<p>Kohinoor Devanagari: <span style='font-family:Kohinoor Devanagari; font-size: 24px;'>Kohinoor Devanagari</p>\n",
       "<p>Kohinoor Gujarati: <span style='font-family:Kohinoor Gujarati; font-size: 24px;'>Kohinoor Gujarati</p>\n",
       "<p>Kohinoor Telugu: <span style='font-family:Kohinoor Telugu; font-size: 24px;'>Kohinoor Telugu</p>\n",
       "<p>Kokonor: <span style='font-family:Kokonor; font-size: 24px;'>Kokonor</p>\n",
       "<p>Krungthep: <span style='font-family:Krungthep; font-size: 24px;'>Krungthep</p>\n",
       "<p>KufiStandardGK: <span style='font-family:KufiStandardGK; font-size: 24px;'>KufiStandardGK</p>\n",
       "<p>Lao MN: <span style='font-family:Lao MN; font-size: 24px;'>Lao MN</p>\n",
       "<p>Lao Sangam MN: <span style='font-family:Lao Sangam MN; font-size: 24px;'>Lao Sangam MN</p>\n",
       "<p>Lucida Grande: <span style='font-family:Lucida Grande; font-size: 24px;'>Lucida Grande</p>\n",
       "<p>Luminari: <span style='font-family:Luminari; font-size: 24px;'>Luminari</p>\n",
       "<p>Malayalam MN: <span style='font-family:Malayalam MN; font-size: 24px;'>Malayalam MN</p>\n",
       "<p>Malayalam Sangam MN: <span style='font-family:Malayalam Sangam MN; font-size: 24px;'>Malayalam Sangam MN</p>\n",
       "<p>Marion: <span style='font-family:Marion; font-size: 24px;'>Marion</p>\n",
       "<p>Marker Felt: <span style='font-family:Marker Felt; font-size: 24px;'>Marker Felt</p>\n",
       "<p>Menlo: <span style='font-family:Menlo; font-size: 24px;'>Menlo</p>\n",
       "<p>Microsoft Sans Serif: <span style='font-family:Microsoft Sans Serif; font-size: 24px;'>Microsoft Sans Serif</p>\n",
       "<p>Mishafi: <span style='font-family:Mishafi; font-size: 24px;'>Mishafi</p>\n",
       "<p>Mishafi Gold: <span style='font-family:Mishafi Gold; font-size: 24px;'>Mishafi Gold</p>\n",
       "<p>Monaco: <span style='font-family:Monaco; font-size: 24px;'>Monaco</p>\n",
       "<p>Mshtakan: <span style='font-family:Mshtakan; font-size: 24px;'>Mshtakan</p>\n",
       "<p>Mukta Mahee: <span style='font-family:Mukta Mahee; font-size: 24px;'>Mukta Mahee</p>\n",
       "<p>Muna: <span style='font-family:Muna; font-size: 24px;'>Muna</p>\n",
       "<p>Myanmar MN: <span style='font-family:Myanmar MN; font-size: 24px;'>Myanmar MN</p>\n",
       "<p>Myanmar Sangam MN: <span style='font-family:Myanmar Sangam MN; font-size: 24px;'>Myanmar Sangam MN</p>\n",
       "<p>Nadeem: <span style='font-family:Nadeem; font-size: 24px;'>Nadeem</p>\n",
       "<p>New Peninim MT: <span style='font-family:New Peninim MT; font-size: 24px;'>New Peninim MT</p>\n",
       "<p>Noteworthy: <span style='font-family:Noteworthy; font-size: 24px;'>Noteworthy</p>\n",
       "<p>Noto Nastaliq Urdu: <span style='font-family:Noto Nastaliq Urdu; font-size: 24px;'>Noto Nastaliq Urdu</p>\n",
       "<p>Noto Sans Adlam: <span style='font-family:Noto Sans Adlam; font-size: 24px;'>Noto Sans Adlam</p>\n",
       "<p>Noto Sans Armenian: <span style='font-family:Noto Sans Armenian; font-size: 24px;'>Noto Sans Armenian</p>\n",
       "<p>Noto Sans Avestan: <span style='font-family:Noto Sans Avestan; font-size: 24px;'>Noto Sans Avestan</p>\n",
       "<p>Noto Sans Bamum: <span style='font-family:Noto Sans Bamum; font-size: 24px;'>Noto Sans Bamum</p>\n",
       "<p>Noto Sans Bassa Vah: <span style='font-family:Noto Sans Bassa Vah; font-size: 24px;'>Noto Sans Bassa Vah</p>\n",
       "<p>Noto Sans Batak: <span style='font-family:Noto Sans Batak; font-size: 24px;'>Noto Sans Batak</p>\n",
       "<p>Noto Sans Bhaiksuki: <span style='font-family:Noto Sans Bhaiksuki; font-size: 24px;'>Noto Sans Bhaiksuki</p>\n",
       "<p>Noto Sans Brahmi: <span style='font-family:Noto Sans Brahmi; font-size: 24px;'>Noto Sans Brahmi</p>\n",
       "<p>Noto Sans Buginese: <span style='font-family:Noto Sans Buginese; font-size: 24px;'>Noto Sans Buginese</p>\n",
       "<p>Noto Sans Buhid: <span style='font-family:Noto Sans Buhid; font-size: 24px;'>Noto Sans Buhid</p>\n",
       "<p>Noto Sans Carian: <span style='font-family:Noto Sans Carian; font-size: 24px;'>Noto Sans Carian</p>\n",
       "<p>Noto Sans Caucasian Albanian: <span style='font-family:Noto Sans Caucasian Albanian; font-size: 24px;'>Noto Sans Caucasian Albanian</p>\n",
       "<p>Noto Sans Chakma: <span style='font-family:Noto Sans Chakma; font-size: 24px;'>Noto Sans Chakma</p>\n",
       "<p>Noto Sans Cham: <span style='font-family:Noto Sans Cham; font-size: 24px;'>Noto Sans Cham</p>\n",
       "<p>Noto Sans Coptic: <span style='font-family:Noto Sans Coptic; font-size: 24px;'>Noto Sans Coptic</p>\n",
       "<p>Noto Sans Cuneiform: <span style='font-family:Noto Sans Cuneiform; font-size: 24px;'>Noto Sans Cuneiform</p>\n",
       "<p>Noto Sans Cypriot: <span style='font-family:Noto Sans Cypriot; font-size: 24px;'>Noto Sans Cypriot</p>\n",
       "<p>Noto Sans Duployan: <span style='font-family:Noto Sans Duployan; font-size: 24px;'>Noto Sans Duployan</p>\n",
       "<p>Noto Sans Egyptian Hieroglyphs: <span style='font-family:Noto Sans Egyptian Hieroglyphs; font-size: 24px;'>Noto Sans Egyptian Hieroglyphs</p>\n",
       "<p>Noto Sans Elbasan: <span style='font-family:Noto Sans Elbasan; font-size: 24px;'>Noto Sans Elbasan</p>\n",
       "<p>Noto Sans Glagolitic: <span style='font-family:Noto Sans Glagolitic; font-size: 24px;'>Noto Sans Glagolitic</p>\n",
       "<p>Noto Sans Gothic: <span style='font-family:Noto Sans Gothic; font-size: 24px;'>Noto Sans Gothic</p>\n",
       "<p>Noto Sans Gunjala Gondi: <span style='font-family:Noto Sans Gunjala Gondi; font-size: 24px;'>Noto Sans Gunjala Gondi</p>\n",
       "<p>Noto Sans Hanifi Rohingya: <span style='font-family:Noto Sans Hanifi Rohingya; font-size: 24px;'>Noto Sans Hanifi Rohingya</p>\n",
       "<p>Noto Sans Hanunoo: <span style='font-family:Noto Sans Hanunoo; font-size: 24px;'>Noto Sans Hanunoo</p>\n",
       "<p>Noto Sans Hatran: <span style='font-family:Noto Sans Hatran; font-size: 24px;'>Noto Sans Hatran</p>\n",
       "<p>Noto Sans Imperial Aramaic: <span style='font-family:Noto Sans Imperial Aramaic; font-size: 24px;'>Noto Sans Imperial Aramaic</p>\n",
       "<p>Noto Sans Inscriptional Pahlavi: <span style='font-family:Noto Sans Inscriptional Pahlavi; font-size: 24px;'>Noto Sans Inscriptional Pahlavi</p>\n",
       "<p>Noto Sans Inscriptional Parthian: <span style='font-family:Noto Sans Inscriptional Parthian; font-size: 24px;'>Noto Sans Inscriptional Parthian</p>\n",
       "<p>Noto Sans Javanese: <span style='font-family:Noto Sans Javanese; font-size: 24px;'>Noto Sans Javanese</p>\n",
       "<p>Noto Sans Kaithi: <span style='font-family:Noto Sans Kaithi; font-size: 24px;'>Noto Sans Kaithi</p>\n",
       "<p>Noto Sans Kannada: <span style='font-family:Noto Sans Kannada; font-size: 24px;'>Noto Sans Kannada</p>\n",
       "<p>Noto Sans Kayah Li: <span style='font-family:Noto Sans Kayah Li; font-size: 24px;'>Noto Sans Kayah Li</p>\n",
       "<p>Noto Sans Kharoshthi: <span style='font-family:Noto Sans Kharoshthi; font-size: 24px;'>Noto Sans Kharoshthi</p>\n",
       "<p>Noto Sans Khojki: <span style='font-family:Noto Sans Khojki; font-size: 24px;'>Noto Sans Khojki</p>\n",
       "<p>Noto Sans Khudawadi: <span style='font-family:Noto Sans Khudawadi; font-size: 24px;'>Noto Sans Khudawadi</p>\n",
       "<p>Noto Sans Lepcha: <span style='font-family:Noto Sans Lepcha; font-size: 24px;'>Noto Sans Lepcha</p>\n",
       "<p>Noto Sans Limbu: <span style='font-family:Noto Sans Limbu; font-size: 24px;'>Noto Sans Limbu</p>\n",
       "<p>Noto Sans Linear A: <span style='font-family:Noto Sans Linear A; font-size: 24px;'>Noto Sans Linear A</p>\n",
       "<p>Noto Sans Linear B: <span style='font-family:Noto Sans Linear B; font-size: 24px;'>Noto Sans Linear B</p>\n",
       "<p>Noto Sans Lisu: <span style='font-family:Noto Sans Lisu; font-size: 24px;'>Noto Sans Lisu</p>\n",
       "<p>Noto Sans Lycian: <span style='font-family:Noto Sans Lycian; font-size: 24px;'>Noto Sans Lycian</p>\n",
       "<p>Noto Sans Lydian: <span style='font-family:Noto Sans Lydian; font-size: 24px;'>Noto Sans Lydian</p>\n",
       "<p>Noto Sans Mahajani: <span style='font-family:Noto Sans Mahajani; font-size: 24px;'>Noto Sans Mahajani</p>\n",
       "<p>Noto Sans Mandaic: <span style='font-family:Noto Sans Mandaic; font-size: 24px;'>Noto Sans Mandaic</p>\n",
       "<p>Noto Sans Manichaean: <span style='font-family:Noto Sans Manichaean; font-size: 24px;'>Noto Sans Manichaean</p>\n",
       "<p>Noto Sans Marchen: <span style='font-family:Noto Sans Marchen; font-size: 24px;'>Noto Sans Marchen</p>\n",
       "<p>Noto Sans Masaram Gondi: <span style='font-family:Noto Sans Masaram Gondi; font-size: 24px;'>Noto Sans Masaram Gondi</p>\n",
       "<p>Noto Sans Meetei Mayek: <span style='font-family:Noto Sans Meetei Mayek; font-size: 24px;'>Noto Sans Meetei Mayek</p>\n",
       "<p>Noto Sans Mende Kikakui: <span style='font-family:Noto Sans Mende Kikakui; font-size: 24px;'>Noto Sans Mende Kikakui</p>\n",
       "<p>Noto Sans Meroitic: <span style='font-family:Noto Sans Meroitic; font-size: 24px;'>Noto Sans Meroitic</p>\n",
       "<p>Noto Sans Miao: <span style='font-family:Noto Sans Miao; font-size: 24px;'>Noto Sans Miao</p>\n",
       "<p>Noto Sans Modi: <span style='font-family:Noto Sans Modi; font-size: 24px;'>Noto Sans Modi</p>\n",
       "<p>Noto Sans Mongolian: <span style='font-family:Noto Sans Mongolian; font-size: 24px;'>Noto Sans Mongolian</p>\n",
       "<p>Noto Sans Mro: <span style='font-family:Noto Sans Mro; font-size: 24px;'>Noto Sans Mro</p>\n",
       "<p>Noto Sans Multani: <span style='font-family:Noto Sans Multani; font-size: 24px;'>Noto Sans Multani</p>\n",
       "<p>Noto Sans Myanmar: <span style='font-family:Noto Sans Myanmar; font-size: 24px;'>Noto Sans Myanmar</p>\n",
       "<p>Noto Sans NKo: <span style='font-family:Noto Sans NKo; font-size: 24px;'>Noto Sans NKo</p>\n",
       "<p>Noto Sans Nabataean: <span style='font-family:Noto Sans Nabataean; font-size: 24px;'>Noto Sans Nabataean</p>\n",
       "<p>Noto Sans New Tai Lue: <span style='font-family:Noto Sans New Tai Lue; font-size: 24px;'>Noto Sans New Tai Lue</p>\n",
       "<p>Noto Sans Newa: <span style='font-family:Noto Sans Newa; font-size: 24px;'>Noto Sans Newa</p>\n",
       "<p>Noto Sans Ol Chiki: <span style='font-family:Noto Sans Ol Chiki; font-size: 24px;'>Noto Sans Ol Chiki</p>\n",
       "<p>Noto Sans Old Hungarian: <span style='font-family:Noto Sans Old Hungarian; font-size: 24px;'>Noto Sans Old Hungarian</p>\n",
       "<p>Noto Sans Old Italic: <span style='font-family:Noto Sans Old Italic; font-size: 24px;'>Noto Sans Old Italic</p>\n",
       "<p>Noto Sans Old North Arabian: <span style='font-family:Noto Sans Old North Arabian; font-size: 24px;'>Noto Sans Old North Arabian</p>\n",
       "<p>Noto Sans Old Permic: <span style='font-family:Noto Sans Old Permic; font-size: 24px;'>Noto Sans Old Permic</p>\n",
       "<p>Noto Sans Old Persian: <span style='font-family:Noto Sans Old Persian; font-size: 24px;'>Noto Sans Old Persian</p>\n",
       "<p>Noto Sans Old South Arabian: <span style='font-family:Noto Sans Old South Arabian; font-size: 24px;'>Noto Sans Old South Arabian</p>\n",
       "<p>Noto Sans Old Turkic: <span style='font-family:Noto Sans Old Turkic; font-size: 24px;'>Noto Sans Old Turkic</p>\n",
       "<p>Noto Sans Oriya: <span style='font-family:Noto Sans Oriya; font-size: 24px;'>Noto Sans Oriya</p>\n",
       "<p>Noto Sans Osage: <span style='font-family:Noto Sans Osage; font-size: 24px;'>Noto Sans Osage</p>\n",
       "<p>Noto Sans Osmanya: <span style='font-family:Noto Sans Osmanya; font-size: 24px;'>Noto Sans Osmanya</p>\n",
       "<p>Noto Sans Pahawh Hmong: <span style='font-family:Noto Sans Pahawh Hmong; font-size: 24px;'>Noto Sans Pahawh Hmong</p>\n",
       "<p>Noto Sans Palmyrene: <span style='font-family:Noto Sans Palmyrene; font-size: 24px;'>Noto Sans Palmyrene</p>\n",
       "<p>Noto Sans Pau Cin Hau: <span style='font-family:Noto Sans Pau Cin Hau; font-size: 24px;'>Noto Sans Pau Cin Hau</p>\n",
       "<p>Noto Sans PhagsPa: <span style='font-family:Noto Sans PhagsPa; font-size: 24px;'>Noto Sans PhagsPa</p>\n",
       "<p>Noto Sans Phoenician: <span style='font-family:Noto Sans Phoenician; font-size: 24px;'>Noto Sans Phoenician</p>\n",
       "<p>Noto Sans Psalter Pahlavi: <span style='font-family:Noto Sans Psalter Pahlavi; font-size: 24px;'>Noto Sans Psalter Pahlavi</p>\n",
       "<p>Noto Sans Rejang: <span style='font-family:Noto Sans Rejang; font-size: 24px;'>Noto Sans Rejang</p>\n",
       "<p>Noto Sans Samaritan: <span style='font-family:Noto Sans Samaritan; font-size: 24px;'>Noto Sans Samaritan</p>\n",
       "<p>Noto Sans Saurashtra: <span style='font-family:Noto Sans Saurashtra; font-size: 24px;'>Noto Sans Saurashtra</p>\n",
       "<p>Noto Sans Sharada: <span style='font-family:Noto Sans Sharada; font-size: 24px;'>Noto Sans Sharada</p>\n",
       "<p>Noto Sans Siddham: <span style='font-family:Noto Sans Siddham; font-size: 24px;'>Noto Sans Siddham</p>\n",
       "<p>Noto Sans Sora Sompeng: <span style='font-family:Noto Sans Sora Sompeng; font-size: 24px;'>Noto Sans Sora Sompeng</p>\n",
       "<p>Noto Sans Sundanese: <span style='font-family:Noto Sans Sundanese; font-size: 24px;'>Noto Sans Sundanese</p>\n",
       "<p>Noto Sans Syloti Nagri: <span style='font-family:Noto Sans Syloti Nagri; font-size: 24px;'>Noto Sans Syloti Nagri</p>\n",
       "<p>Noto Sans Syriac: <span style='font-family:Noto Sans Syriac; font-size: 24px;'>Noto Sans Syriac</p>\n",
       "<p>Noto Sans Tagalog: <span style='font-family:Noto Sans Tagalog; font-size: 24px;'>Noto Sans Tagalog</p>\n",
       "<p>Noto Sans Tagbanwa: <span style='font-family:Noto Sans Tagbanwa; font-size: 24px;'>Noto Sans Tagbanwa</p>\n",
       "<p>Noto Sans Tai Le: <span style='font-family:Noto Sans Tai Le; font-size: 24px;'>Noto Sans Tai Le</p>\n",
       "<p>Noto Sans Tai Tham: <span style='font-family:Noto Sans Tai Tham; font-size: 24px;'>Noto Sans Tai Tham</p>\n",
       "<p>Noto Sans Tai Viet: <span style='font-family:Noto Sans Tai Viet; font-size: 24px;'>Noto Sans Tai Viet</p>\n",
       "<p>Noto Sans Takri: <span style='font-family:Noto Sans Takri; font-size: 24px;'>Noto Sans Takri</p>\n",
       "<p>Noto Sans Thaana: <span style='font-family:Noto Sans Thaana; font-size: 24px;'>Noto Sans Thaana</p>\n",
       "<p>Noto Sans Tifinagh: <span style='font-family:Noto Sans Tifinagh; font-size: 24px;'>Noto Sans Tifinagh</p>\n",
       "<p>Noto Sans Tirhuta: <span style='font-family:Noto Sans Tirhuta; font-size: 24px;'>Noto Sans Tirhuta</p>\n",
       "<p>Noto Sans Ugaritic: <span style='font-family:Noto Sans Ugaritic; font-size: 24px;'>Noto Sans Ugaritic</p>\n",
       "<p>Noto Sans Vai: <span style='font-family:Noto Sans Vai; font-size: 24px;'>Noto Sans Vai</p>\n",
       "<p>Noto Sans Wancho: <span style='font-family:Noto Sans Wancho; font-size: 24px;'>Noto Sans Wancho</p>\n",
       "<p>Noto Sans Warang Citi: <span style='font-family:Noto Sans Warang Citi; font-size: 24px;'>Noto Sans Warang Citi</p>\n",
       "<p>Noto Sans Yi: <span style='font-family:Noto Sans Yi; font-size: 24px;'>Noto Sans Yi</p>\n",
       "<p>Noto Serif Ahom: <span style='font-family:Noto Serif Ahom; font-size: 24px;'>Noto Serif Ahom</p>\n",
       "<p>Noto Serif Balinese: <span style='font-family:Noto Serif Balinese; font-size: 24px;'>Noto Serif Balinese</p>\n",
       "<p>Noto Serif Myanmar: <span style='font-family:Noto Serif Myanmar; font-size: 24px;'>Noto Serif Myanmar</p>\n",
       "<p>Noto Serif Yezidi: <span style='font-family:Noto Serif Yezidi; font-size: 24px;'>Noto Serif Yezidi</p>\n",
       "<p>Optima: <span style='font-family:Optima; font-size: 24px;'>Optima</p>\n",
       "<p>Oriya MN: <span style='font-family:Oriya MN; font-size: 24px;'>Oriya MN</p>\n",
       "<p>Oriya Sangam MN: <span style='font-family:Oriya Sangam MN; font-size: 24px;'>Oriya Sangam MN</p>\n",
       "<p>PT Mono: <span style='font-family:PT Mono; font-size: 24px;'>PT Mono</p>\n",
       "<p>PT Sans: <span style='font-family:PT Sans; font-size: 24px;'>PT Sans</p>\n",
       "<p>PT Serif: <span style='font-family:PT Serif; font-size: 24px;'>PT Serif</p>\n",
       "<p>PT Serif Caption: <span style='font-family:PT Serif Caption; font-size: 24px;'>PT Serif Caption</p>\n",
       "<p>Palatino: <span style='font-family:Palatino; font-size: 24px;'>Palatino</p>\n",
       "<p>Papyrus: <span style='font-family:Papyrus; font-size: 24px;'>Papyrus</p>\n",
       "<p>Party LET: <span style='font-family:Party LET; font-size: 24px;'>Party LET</p>\n",
       "<p>Phosphate: <span style='font-family:Phosphate; font-size: 24px;'>Phosphate</p>\n",
       "<p>PingFang HK: <span style='font-family:PingFang HK; font-size: 24px;'>PingFang HK</p>\n",
       "<p>Plantagenet Cherokee: <span style='font-family:Plantagenet Cherokee; font-size: 24px;'>Plantagenet Cherokee</p>\n",
       "<p>Raanana: <span style='font-family:Raanana; font-size: 24px;'>Raanana</p>\n",
       "<p>Rockwell: <span style='font-family:Rockwell; font-size: 24px;'>Rockwell</p>\n",
       "<p>STIXGeneral: <span style='font-family:STIXGeneral; font-size: 24px;'>STIXGeneral</p>\n",
       "<p>STIXIntegralsD: <span style='font-family:STIXIntegralsD; font-size: 24px;'>STIXIntegralsD</p>\n",
       "<p>STIXIntegralsSm: <span style='font-family:STIXIntegralsSm; font-size: 24px;'>STIXIntegralsSm</p>\n",
       "<p>STIXIntegralsUp: <span style='font-family:STIXIntegralsUp; font-size: 24px;'>STIXIntegralsUp</p>\n",
       "<p>STIXIntegralsUpD: <span style='font-family:STIXIntegralsUpD; font-size: 24px;'>STIXIntegralsUpD</p>\n",
       "<p>STIXIntegralsUpSm: <span style='font-family:STIXIntegralsUpSm; font-size: 24px;'>STIXIntegralsUpSm</p>\n",
       "<p>STIXNonUnicode: <span style='font-family:STIXNonUnicode; font-size: 24px;'>STIXNonUnicode</p>\n",
       "<p>STIXSizeFiveSym: <span style='font-family:STIXSizeFiveSym; font-size: 24px;'>STIXSizeFiveSym</p>\n",
       "<p>STIXSizeFourSym: <span style='font-family:STIXSizeFourSym; font-size: 24px;'>STIXSizeFourSym</p>\n",
       "<p>STIXSizeOneSym: <span style='font-family:STIXSizeOneSym; font-size: 24px;'>STIXSizeOneSym</p>\n",
       "<p>STIXSizeThreeSym: <span style='font-family:STIXSizeThreeSym; font-size: 24px;'>STIXSizeThreeSym</p>\n",
       "<p>STIXSizeTwoSym: <span style='font-family:STIXSizeTwoSym; font-size: 24px;'>STIXSizeTwoSym</p>\n",
       "<p>STIXVariants: <span style='font-family:STIXVariants; font-size: 24px;'>STIXVariants</p>\n",
       "<p>Sana: <span style='font-family:Sana; font-size: 24px;'>Sana</p>\n",
       "<p>Sathu: <span style='font-family:Sathu; font-size: 24px;'>Sathu</p>\n",
       "<p>Savoye LET: <span style='font-family:Savoye LET; font-size: 24px;'>Savoye LET</p>\n",
       "<p>Seravek: <span style='font-family:Seravek; font-size: 24px;'>Seravek</p>\n",
       "<p>Shree Devanagari 714: <span style='font-family:Shree Devanagari 714; font-size: 24px;'>Shree Devanagari 714</p>\n",
       "<p>SignPainter: <span style='font-family:SignPainter; font-size: 24px;'>SignPainter</p>\n",
       "<p>Silom: <span style='font-family:Silom; font-size: 24px;'>Silom</p>\n",
       "<p>Sinhala MN: <span style='font-family:Sinhala MN; font-size: 24px;'>Sinhala MN</p>\n",
       "<p>Sinhala Sangam MN: <span style='font-family:Sinhala Sangam MN; font-size: 24px;'>Sinhala Sangam MN</p>\n",
       "<p>Skia: <span style='font-family:Skia; font-size: 24px;'>Skia</p>\n",
       "<p>Snell Roundhand: <span style='font-family:Snell Roundhand; font-size: 24px;'>Snell Roundhand</p>\n",
       "<p>Songti SC: <span style='font-family:Songti SC; font-size: 24px;'>Songti SC</p>\n",
       "<p>Sukhumvit Set: <span style='font-family:Sukhumvit Set; font-size: 24px;'>Sukhumvit Set</p>\n",
       "<p>Superclarendon: <span style='font-family:Superclarendon; font-size: 24px;'>Superclarendon</p>\n",
       "<p>Symbol: <span style='font-family:Symbol; font-size: 24px;'>Symbol</p>\n",
       "<p>System Font: <span style='font-family:System Font; font-size: 24px;'>System Font</p>\n",
       "<p>Tahoma: <span style='font-family:Tahoma; font-size: 24px;'>Tahoma</p>\n",
       "<p>Tamil MN: <span style='font-family:Tamil MN; font-size: 24px;'>Tamil MN</p>\n",
       "<p>Tamil Sangam MN: <span style='font-family:Tamil Sangam MN; font-size: 24px;'>Tamil Sangam MN</p>\n",
       "<p>Telugu MN: <span style='font-family:Telugu MN; font-size: 24px;'>Telugu MN</p>\n",
       "<p>Telugu Sangam MN: <span style='font-family:Telugu Sangam MN; font-size: 24px;'>Telugu Sangam MN</p>\n",
       "<p>Thonburi: <span style='font-family:Thonburi; font-size: 24px;'>Thonburi</p>\n",
       "<p>Times: <span style='font-family:Times; font-size: 24px;'>Times</p>\n",
       "<p>Times New Roman: <span style='font-family:Times New Roman; font-size: 24px;'>Times New Roman</p>\n",
       "<p>Trattatello: <span style='font-family:Trattatello; font-size: 24px;'>Trattatello</p>\n",
       "<p>Trebuchet MS: <span style='font-family:Trebuchet MS; font-size: 24px;'>Trebuchet MS</p>\n",
       "<p>Verdana: <span style='font-family:Verdana; font-size: 24px;'>Verdana</p>\n",
       "<p>Waseem: <span style='font-family:Waseem; font-size: 24px;'>Waseem</p>\n",
       "<p>Webdings: <span style='font-family:Webdings; font-size: 24px;'>Webdings</p>\n",
       "<p>Wingdings: <span style='font-family:Wingdings; font-size: 24px;'>Wingdings</p>\n",
       "<p>Wingdings 2: <span style='font-family:Wingdings 2; font-size: 24px;'>Wingdings 2</p>\n",
       "<p>Wingdings 3: <span style='font-family:Wingdings 3; font-size: 24px;'>Wingdings 3</p>\n",
       "<p>Zapf Dingbats: <span style='font-family:Zapf Dingbats; font-size: 24px;'>Zapf Dingbats</p>\n",
       "<p>Zapfino: <span style='font-family:Zapfino; font-size: 24px;'>Zapfino</p>\n",
       "<p>cmb10: <span style='font-family:cmb10; font-size: 24px;'>cmb10</p>\n",
       "<p>cmex10: <span style='font-family:cmex10; font-size: 24px;'>cmex10</p>\n",
       "<p>cmmi10: <span style='font-family:cmmi10; font-size: 24px;'>cmmi10</p>\n",
       "<p>cmr10: <span style='font-family:cmr10; font-size: 24px;'>cmr10</p>\n",
       "<p>cmss10: <span style='font-family:cmss10; font-size: 24px;'>cmss10</p>\n",
       "<p>cmsy10: <span style='font-family:cmsy10; font-size: 24px;'>cmsy10</p>\n",
       "<p>cmtt10: <span style='font-family:cmtt10; font-size: 24px;'>cmtt10</p></div>"
      ],
      "text/plain": [
       "<IPython.core.display.HTML object>"
      ]
     },
     "execution_count": 15,
     "metadata": {},
     "output_type": "execute_result"
    }
   ],
   "source": [
    "import matplotlib.font_manager\n",
    "from IPython.core.display import HTML\n",
    "\n",
    "def make_html(fontname):\n",
    "    return \"<p>{font}: <span style='font-family:{font}; font-size: 24px;'>{font}</p>\".format(font=fontname)\n",
    "\n",
    "code = \"\\n\".join([make_html(font) for font in sorted(set([f.name for f in matplotlib.font_manager.fontManager.ttflist]))])\n",
    "\n",
    "HTML(\"<div style='column-count: 2;'>{}</div>\".format(code))"
   ]
  },
  {
   "cell_type": "markdown",
   "metadata": {},
   "source": [
    "### Labels rotieren"
   ]
  },
  {
   "cell_type": "code",
   "execution_count": 92,
   "metadata": {},
   "outputs": [
    {
     "data": {
      "text/plain": [
       "<matplotlib.axes._subplots.AxesSubplot at 0x1194d19d0>"
      ]
     },
     "execution_count": 92,
     "metadata": {},
     "output_type": "execute_result"
    },
    {
     "data": {
      "image/png": "[encoded data removed]",
      "text/plain": [
       "<matplotlib.figure.Figure at 0x11937d9d0>"
      ]
     },
     "metadata": {},
     "output_type": "display_data"
    }
   ],
   "source": [
    "df.plot(y=\"Bruttoinlandprodukt\",x=\"Jahr\", kind=\"area\", title=\"BIP Basel 1980-2015\", legend=False,rot=90)"
   ]
  },
  {
   "cell_type": "markdown",
   "metadata": {},
   "source": [
    "### Grid an "
   ]
  },
  {
   "cell_type": "code",
   "execution_count": 93,
   "metadata": {},
   "outputs": [
    {
     "data": {
      "text/plain": [
       "<matplotlib.axes._subplots.AxesSubplot at 0x119a34550>"
      ]
     },
     "execution_count": 93,
     "metadata": {},
     "output_type": "execute_result"
    },
    {
     "data": {
      "image/png": "[encoded data removed]",
      "text/plain": [
       "<matplotlib.figure.Figure at 0x119ac6610>"
      ]
     },
     "metadata": {},
     "output_type": "display_data"
    }
   ],
   "source": [
    "df.plot(y=\"Bruttoinlandprodukt\",x=\"Jahr\", kind=\"area\", title=\"BIP Basel 1980-2015\", legend=False,grid=True)"
   ]
  },
  {
   "cell_type": "markdown",
   "metadata": {},
   "source": [
    "### Orientierungslinien einzeichnen"
   ]
  },
  {
   "cell_type": "code",
   "execution_count": 123,
   "metadata": {},
   "outputs": [
    {
     "data": {
      "text/plain": [
       "[<matplotlib.lines.Line2D at 0x11be06f90>]"
      ]
     },
     "execution_count": 123,
     "metadata": {},
     "output_type": "execute_result"
    },
    {
     "data": {
      "image/png": "[encoded data removed]",
      "text/plain": [
       "<matplotlib.figure.Figure at 0x11bdf6050>"
      ]
     },
     "metadata": {},
     "output_type": "display_data"
    }
   ],
   "source": [
    "ax = df.plot(y=\"Bruttoinlandprodukt\",x=\"Jahr\", kind=\"area\", title=\"BIP Basel 1980-2015\", legend=False)\n",
    "ax.plot([1995,1995],[0,30000], c='red', linestyle=\"-\", linewidth=0.5)"
   ]
  },
  {
   "cell_type": "markdown",
   "metadata": {},
   "source": [
    "### Annotieren"
   ]
  },
  {
   "cell_type": "code",
   "execution_count": 146,
   "metadata": {},
   "outputs": [
    {
     "data": {
      "text/plain": [
       "<matplotlib.collections.PathCollection at 0x11dea6190>"
      ]
     },
     "execution_count": 146,
     "metadata": {},
     "output_type": "execute_result"
    },
    {
     "data": {
      "image/png": "[encoded data removed]",
      "text/plain": [
       "<matplotlib.figure.Figure at 0x11dc7d710>"
      ]
     },
     "metadata": {},
     "output_type": "display_data"
    }
   ],
   "source": [
    "ax = df.plot(y=\"Bruttoinlandprodukt\",x=\"Jahr\", kind=\"area\", title=\"BIP Basel 1980-2015\", legend=False)\n",
    "ax.annotate(s=\"Krise\", xy=(1996,20500), color='black')\n",
    "ax.scatter(x= 1995, y=21000, s=70, clip_on=False, linewidth=0,color=\"black\")\n"
   ]
  },
  {
   "cell_type": "markdown",
   "metadata": {},
   "source": [
    "### Hintergrund Farbe ändern"
   ]
  },
  {
   "cell_type": "code",
   "execution_count": 1,
   "metadata": {},
   "outputs": [
    {
     "ename": "NameError",
     "evalue": "name 'df' is not defined",
     "output_type": "error",
     "traceback": [
      "\u001b[0;31m---------------------------------------------------------------------------\u001b[0m",
      "\u001b[0;31mNameError\u001b[0m                                 Traceback (most recent call last)",
      "\u001b[0;32m<ipython-input-1-e22e7dc05335>\u001b[0m in \u001b[0;36m<module>\u001b[0;34m()\u001b[0m\n\u001b[0;32m----> 1\u001b[0;31m \u001b[0max\u001b[0m \u001b[0;34m=\u001b[0m \u001b[0mdf\u001b[0m\u001b[0;34m.\u001b[0m\u001b[0mplot\u001b[0m\u001b[0;34m(\u001b[0m\u001b[0my\u001b[0m\u001b[0;34m=\u001b[0m\u001b[0;34m\"Bruttoinlandprodukt\"\u001b[0m\u001b[0;34m,\u001b[0m\u001b[0mx\u001b[0m\u001b[0;34m=\u001b[0m\u001b[0;34m\"Jahr\"\u001b[0m\u001b[0;34m,\u001b[0m \u001b[0mkind\u001b[0m\u001b[0;34m=\u001b[0m\u001b[0;34m\"area\"\u001b[0m\u001b[0;34m,\u001b[0m \u001b[0mtitle\u001b[0m\u001b[0;34m=\u001b[0m\u001b[0;34m\"BIP Basel 1980-2015\"\u001b[0m\u001b[0;34m,\u001b[0m \u001b[0mlegend\u001b[0m\u001b[0;34m=\u001b[0m\u001b[0mFalse\u001b[0m\u001b[0;34m)\u001b[0m\u001b[0;34m\u001b[0m\u001b[0m\n\u001b[0m\u001b[1;32m      2\u001b[0m \u001b[0max\u001b[0m\u001b[0;34m.\u001b[0m\u001b[0mset_axis_bgcolor\u001b[0m\u001b[0;34m(\u001b[0m\u001b[0;34m\"lightslategray\"\u001b[0m\u001b[0;34m)\u001b[0m\u001b[0;34m\u001b[0m\u001b[0m\n",
      "\u001b[0;31mNameError\u001b[0m: name 'df' is not defined"
     ]
    }
   ],
   "source": [
    "ax = df.plot(y=\"Bruttoinlandprodukt\",x=\"Jahr\", kind=\"area\", title=\"BIP Basel 1980-2015\", legend=False)\n",
    "ax.set_axis_bgcolor(\"lightslategray\")"
   ]
  },
  {
   "cell_type": "markdown",
   "metadata": {},
   "source": [
    "### Speichern"
   ]
  },
  {
   "cell_type": "code",
   "execution_count": 150,
   "metadata": {},
   "outputs": [
    {
     "data": {
      "image/png": "[encoded data removed]",
      "text/plain": [
       "<matplotlib.figure.Figure at 0x11e128590>"
      ]
     },
     "metadata": {},
     "output_type": "display_data"
    }
   ],
   "source": [
    "ax = df.plot(y=\"Bruttoinlandprodukt\",x=\"Jahr\", kind=\"area\", title=\"BIP Basel 1980-2015\", legend=False)\n",
    "plt.savefig(\"output.pdf\", transparent=True)\n"
   ]
  },
  {
   "cell_type": "markdown",
   "metadata": {},
   "source": [
    "### Mehr infos:\n",
    "- https://pandas.pydata.org/pandas-docs/stable/generated/pandas.DataFrame.plot.html\n",
    "- Vieeeel mehr Beispiele unter http://pandas.pydata.org/pandas-docs/version/0.13/visualization.html"
   ]
  },
  {
   "cell_type": "markdown",
   "metadata": {},
   "source": [
    "## Excel daten lesen"
   ]
  },
  {
   "cell_type": "markdown",
   "metadata": {},
   "source": [
    "- Evtl muss zusatzpaket installiert werden `pip install xlrd`"
   ]
  },
  {
   "cell_type": "code",
   "execution_count": 16,
   "metadata": {},
   "outputs": [],
   "source": [
    "df = pd.read_excel(\"bip_region.xlsx\")"
   ]
  },
  {
   "cell_type": "code",
   "execution_count": 17,
   "metadata": {},
   "outputs": [
    {
     "data": {
      "text/html": [
       "<div>\n",
       "<style scoped>\n",
       "    .dataframe tbody tr th:only-of-type {\n",
       "        vertical-align: middle;\n",
       "    }\n",
       "\n",
       "    .dataframe tbody tr th {\n",
       "        vertical-align: top;\n",
       "    }\n",
       "\n",
       "    .dataframe thead th {\n",
       "        text-align: right;\n",
       "    }\n",
       "</style>\n",
       "<table border=\"1\" class=\"dataframe\">\n",
       "  <thead>\n",
       "    <tr style=\"text-align: right;\">\n",
       "      <th></th>\n",
       "      <th>Kanton</th>\n",
       "      <th>2008</th>\n",
       "      <th>2009</th>\n",
       "      <th>2010</th>\n",
       "      <th>2011</th>\n",
       "      <th>2012</th>\n",
       "      <th>2013</th>\n",
       "      <th>2014</th>\n",
       "      <th>2015</th>\n",
       "    </tr>\n",
       "  </thead>\n",
       "  <tbody>\n",
       "    <tr>\n",
       "      <th>0</th>\n",
       "      <td>Zürich</td>\n",
       "      <td>131359.74779</td>\n",
       "      <td>128598.48877</td>\n",
       "      <td>130100.59227</td>\n",
       "      <td>133064.84582</td>\n",
       "      <td>134962.96311</td>\n",
       "      <td>136996.44038</td>\n",
       "      <td>139178.97551</td>\n",
       "      <td>140705.79870</td>\n",
       "    </tr>\n",
       "    <tr>\n",
       "      <th>1</th>\n",
       "      <td>Bern</td>\n",
       "      <td>72750.56084</td>\n",
       "      <td>71584.86949</td>\n",
       "      <td>74219.89185</td>\n",
       "      <td>75300.71702</td>\n",
       "      <td>74749.24554</td>\n",
       "      <td>75958.67357</td>\n",
       "      <td>77484.09956</td>\n",
       "      <td>77931.53113</td>\n",
       "    </tr>\n",
       "    <tr>\n",
       "      <th>2</th>\n",
       "      <td>Luzern</td>\n",
       "      <td>22720.98898</td>\n",
       "      <td>22245.78158</td>\n",
       "      <td>23810.92673</td>\n",
       "      <td>24165.45463</td>\n",
       "      <td>24604.05894</td>\n",
       "      <td>25123.08574</td>\n",
       "      <td>25786.98622</td>\n",
       "      <td>26268.34144</td>\n",
       "    </tr>\n",
       "    <tr>\n",
       "      <th>3</th>\n",
       "      <td>Uri</td>\n",
       "      <td>1752.93465</td>\n",
       "      <td>1757.71788</td>\n",
       "      <td>1777.83485</td>\n",
       "      <td>1841.33727</td>\n",
       "      <td>1816.73788</td>\n",
       "      <td>1857.68901</td>\n",
       "      <td>1858.10063</td>\n",
       "      <td>1919.98839</td>\n",
       "    </tr>\n",
       "    <tr>\n",
       "      <th>4</th>\n",
       "      <td>Schwyz</td>\n",
       "      <td>8223.13524</td>\n",
       "      <td>8338.64153</td>\n",
       "      <td>8479.15799</td>\n",
       "      <td>8453.44582</td>\n",
       "      <td>8550.76716</td>\n",
       "      <td>8820.41048</td>\n",
       "      <td>8922.73827</td>\n",
       "      <td>9185.14186</td>\n",
       "    </tr>\n",
       "  </tbody>\n",
       "</table>\n",
       "</div>"
      ],
      "text/plain": [
       "   Kanton          2008          2009          2010          2011  \\\n",
       "0  Zürich  131359.74779  128598.48877  130100.59227  133064.84582   \n",
       "1    Bern   72750.56084   71584.86949   74219.89185   75300.71702   \n",
       "2  Luzern   22720.98898   22245.78158   23810.92673   24165.45463   \n",
       "3     Uri    1752.93465    1757.71788    1777.83485    1841.33727   \n",
       "4  Schwyz    8223.13524    8338.64153    8479.15799    8453.44582   \n",
       "\n",
       "           2012          2013          2014          2015  \n",
       "0  134962.96311  136996.44038  139178.97551  140705.79870  \n",
       "1   74749.24554   75958.67357   77484.09956   77931.53113  \n",
       "2   24604.05894   25123.08574   25786.98622   26268.34144  \n",
       "3    1816.73788    1857.68901    1858.10063    1919.98839  \n",
       "4    8550.76716    8820.41048    8922.73827    9185.14186  "
      ]
     },
     "execution_count": 17,
     "metadata": {},
     "output_type": "execute_result"
    }
   ],
   "source": [
    "df.head()"
   ]
  },
  {
   "cell_type": "code",
   "execution_count": 62,
   "metadata": {},
   "outputs": [
    {
     "data": {
      "text/plain": [
       "<matplotlib.axes._subplots.AxesSubplot at 0x1163499d0>"
      ]
     },
     "execution_count": 62,
     "metadata": {},
     "output_type": "execute_result"
    },
    {
     "data": {
      "image/png": "[encoded data removed]",
      "text/plain": [
       "<matplotlib.figure.Figure at 0x1162b2550>"
      ]
     },
     "metadata": {},
     "output_type": "display_data"
    }
   ],
   "source": [
    "df.plot(kind=\"bar\",x=\"Kanton\",stacked=True)"
   ]
  },
  {
   "cell_type": "markdown",
   "metadata": {},
   "source": [
    "### Rows filtern"
   ]
  },
  {
   "cell_type": "code",
   "execution_count": 85,
   "metadata": {},
   "outputs": [
    {
     "data": {
      "text/html": [
       "<div>\n",
       "<style scoped>\n",
       "    .dataframe tbody tr th:only-of-type {\n",
       "        vertical-align: middle;\n",
       "    }\n",
       "\n",
       "    .dataframe tbody tr th {\n",
       "        vertical-align: top;\n",
       "    }\n",
       "\n",
       "    .dataframe thead th {\n",
       "        text-align: right;\n",
       "    }\n",
       "</style>\n",
       "<table border=\"1\" class=\"dataframe\">\n",
       "  <thead>\n",
       "    <tr style=\"text-align: right;\">\n",
       "      <th></th>\n",
       "      <th>Kanton</th>\n",
       "      <th>2008</th>\n",
       "      <th>2009</th>\n",
       "      <th>2010</th>\n",
       "      <th>2011</th>\n",
       "      <th>2012</th>\n",
       "      <th>2013</th>\n",
       "      <th>2014</th>\n",
       "      <th>2015</th>\n",
       "    </tr>\n",
       "  </thead>\n",
       "  <tbody>\n",
       "    <tr>\n",
       "      <th>0</th>\n",
       "      <td>Zürich</td>\n",
       "      <td>131359.74779</td>\n",
       "      <td>128598.48877</td>\n",
       "      <td>130100.59227</td>\n",
       "      <td>133064.84582</td>\n",
       "      <td>134962.96311</td>\n",
       "      <td>136996.44038</td>\n",
       "      <td>139178.97551</td>\n",
       "      <td>140705.79870</td>\n",
       "    </tr>\n",
       "    <tr>\n",
       "      <th>1</th>\n",
       "      <td>Bern</td>\n",
       "      <td>72750.56084</td>\n",
       "      <td>71584.86949</td>\n",
       "      <td>74219.89185</td>\n",
       "      <td>75300.71702</td>\n",
       "      <td>74749.24554</td>\n",
       "      <td>75958.67357</td>\n",
       "      <td>77484.09956</td>\n",
       "      <td>77931.53113</td>\n",
       "    </tr>\n",
       "    <tr>\n",
       "      <th>2</th>\n",
       "      <td>Luzern</td>\n",
       "      <td>22720.98898</td>\n",
       "      <td>22245.78158</td>\n",
       "      <td>23810.92673</td>\n",
       "      <td>24165.45463</td>\n",
       "      <td>24604.05894</td>\n",
       "      <td>25123.08574</td>\n",
       "      <td>25786.98622</td>\n",
       "      <td>26268.34144</td>\n",
       "    </tr>\n",
       "    <tr>\n",
       "      <th>3</th>\n",
       "      <td>Uri</td>\n",
       "      <td>1752.93465</td>\n",
       "      <td>1757.71788</td>\n",
       "      <td>1777.83485</td>\n",
       "      <td>1841.33727</td>\n",
       "      <td>1816.73788</td>\n",
       "      <td>1857.68901</td>\n",
       "      <td>1858.10063</td>\n",
       "      <td>1919.98839</td>\n",
       "    </tr>\n",
       "    <tr>\n",
       "      <th>4</th>\n",
       "      <td>Schwyz</td>\n",
       "      <td>8223.13524</td>\n",
       "      <td>8338.64153</td>\n",
       "      <td>8479.15799</td>\n",
       "      <td>8453.44582</td>\n",
       "      <td>8550.76716</td>\n",
       "      <td>8820.41048</td>\n",
       "      <td>8922.73827</td>\n",
       "      <td>9185.14186</td>\n",
       "    </tr>\n",
       "    <tr>\n",
       "      <th>5</th>\n",
       "      <td>Obwalden</td>\n",
       "      <td>2178.22561</td>\n",
       "      <td>2165.70466</td>\n",
       "      <td>2315.14044</td>\n",
       "      <td>2344.47030</td>\n",
       "      <td>2335.90088</td>\n",
       "      <td>2348.20404</td>\n",
       "      <td>2382.15729</td>\n",
       "      <td>2439.71601</td>\n",
       "    </tr>\n",
       "    <tr>\n",
       "      <th>6</th>\n",
       "      <td>Nidwalden</td>\n",
       "      <td>2464.94304</td>\n",
       "      <td>2453.00679</td>\n",
       "      <td>2666.92107</td>\n",
       "      <td>2722.43704</td>\n",
       "      <td>2741.98700</td>\n",
       "      <td>2889.86980</td>\n",
       "      <td>2952.46112</td>\n",
       "      <td>2968.42463</td>\n",
       "    </tr>\n",
       "    <tr>\n",
       "      <th>7</th>\n",
       "      <td>Glarus</td>\n",
       "      <td>2497.85406</td>\n",
       "      <td>2429.59366</td>\n",
       "      <td>2495.72236</td>\n",
       "      <td>2555.84703</td>\n",
       "      <td>2562.83471</td>\n",
       "      <td>2654.73368</td>\n",
       "      <td>2702.95733</td>\n",
       "      <td>2718.56906</td>\n",
       "    </tr>\n",
       "    <tr>\n",
       "      <th>8</th>\n",
       "      <td>Zug</td>\n",
       "      <td>15704.93243</td>\n",
       "      <td>15597.93402</td>\n",
       "      <td>17188.26026</td>\n",
       "      <td>17360.24209</td>\n",
       "      <td>17546.61466</td>\n",
       "      <td>18642.40183</td>\n",
       "      <td>18159.90601</td>\n",
       "      <td>18494.72289</td>\n",
       "    </tr>\n",
       "    <tr>\n",
       "      <th>9</th>\n",
       "      <td>Freiburg</td>\n",
       "      <td>16039.88321</td>\n",
       "      <td>15647.52388</td>\n",
       "      <td>16210.29069</td>\n",
       "      <td>16590.79792</td>\n",
       "      <td>16670.02007</td>\n",
       "      <td>17454.62870</td>\n",
       "      <td>18056.59481</td>\n",
       "      <td>18143.94823</td>\n",
       "    </tr>\n",
       "    <tr>\n",
       "      <th>10</th>\n",
       "      <td>Solothurn</td>\n",
       "      <td>16362.95718</td>\n",
       "      <td>15754.85101</td>\n",
       "      <td>16309.95677</td>\n",
       "      <td>16584.83354</td>\n",
       "      <td>16723.23264</td>\n",
       "      <td>16978.23375</td>\n",
       "      <td>17352.49011</td>\n",
       "      <td>17500.99598</td>\n",
       "    </tr>\n",
       "    <tr>\n",
       "      <th>11</th>\n",
       "      <td>Basel-Stadt</td>\n",
       "      <td>30588.93190</td>\n",
       "      <td>30213.91048</td>\n",
       "      <td>30636.65106</td>\n",
       "      <td>31361.93837</td>\n",
       "      <td>31957.72376</td>\n",
       "      <td>31800.89376</td>\n",
       "      <td>32254.04168</td>\n",
       "      <td>32291.77265</td>\n",
       "    </tr>\n",
       "    <tr>\n",
       "      <th>12</th>\n",
       "      <td>Basel-Landschaft</td>\n",
       "      <td>18118.23254</td>\n",
       "      <td>17787.50971</td>\n",
       "      <td>18439.60322</td>\n",
       "      <td>18752.36118</td>\n",
       "      <td>18618.27536</td>\n",
       "      <td>18816.86790</td>\n",
       "      <td>19412.13056</td>\n",
       "      <td>19400.21119</td>\n",
       "    </tr>\n",
       "    <tr>\n",
       "      <th>13</th>\n",
       "      <td>Schaffhausen</td>\n",
       "      <td>6224.35981</td>\n",
       "      <td>6070.29276</td>\n",
       "      <td>6577.67682</td>\n",
       "      <td>6697.39515</td>\n",
       "      <td>6754.15489</td>\n",
       "      <td>6832.52624</td>\n",
       "      <td>6860.43608</td>\n",
       "      <td>6885.93356</td>\n",
       "    </tr>\n",
       "    <tr>\n",
       "      <th>14</th>\n",
       "      <td>Appenzell A. Rh.</td>\n",
       "      <td>2839.87314</td>\n",
       "      <td>2742.38646</td>\n",
       "      <td>2876.02060</td>\n",
       "      <td>2929.49956</td>\n",
       "      <td>2922.34135</td>\n",
       "      <td>3012.62448</td>\n",
       "      <td>3067.68658</td>\n",
       "      <td>3069.62579</td>\n",
       "    </tr>\n",
       "    <tr>\n",
       "      <th>15</th>\n",
       "      <td>Appenzell I. Rh.</td>\n",
       "      <td>834.21236</td>\n",
       "      <td>817.74906</td>\n",
       "      <td>882.14313</td>\n",
       "      <td>903.75548</td>\n",
       "      <td>906.98315</td>\n",
       "      <td>933.83047</td>\n",
       "      <td>968.33051</td>\n",
       "      <td>979.82183</td>\n",
       "    </tr>\n",
       "    <tr>\n",
       "      <th>16</th>\n",
       "      <td>St. Gallen</td>\n",
       "      <td>33496.25812</td>\n",
       "      <td>32494.36376</td>\n",
       "      <td>33910.85281</td>\n",
       "      <td>34632.99872</td>\n",
       "      <td>34656.79400</td>\n",
       "      <td>35437.52569</td>\n",
       "      <td>36149.88739</td>\n",
       "      <td>36054.29883</td>\n",
       "    </tr>\n",
       "    <tr>\n",
       "      <th>17</th>\n",
       "      <td>Graubünden</td>\n",
       "      <td>12615.50487</td>\n",
       "      <td>12637.89176</td>\n",
       "      <td>13065.40866</td>\n",
       "      <td>13352.88854</td>\n",
       "      <td>13511.90219</td>\n",
       "      <td>13734.51080</td>\n",
       "      <td>13951.15968</td>\n",
       "      <td>13980.72970</td>\n",
       "    </tr>\n",
       "    <tr>\n",
       "      <th>18</th>\n",
       "      <td>Aargau</td>\n",
       "      <td>37774.52858</td>\n",
       "      <td>36943.54089</td>\n",
       "      <td>37664.96637</td>\n",
       "      <td>38505.31274</td>\n",
       "      <td>38719.76854</td>\n",
       "      <td>39488.54672</td>\n",
       "      <td>40139.27705</td>\n",
       "      <td>40065.31035</td>\n",
       "    </tr>\n",
       "    <tr>\n",
       "      <th>19</th>\n",
       "      <td>Thurgau</td>\n",
       "      <td>14312.76458</td>\n",
       "      <td>13928.47050</td>\n",
       "      <td>14734.43121</td>\n",
       "      <td>15213.68411</td>\n",
       "      <td>15345.08658</td>\n",
       "      <td>15678.79909</td>\n",
       "      <td>15997.98693</td>\n",
       "      <td>16043.43836</td>\n",
       "    </tr>\n",
       "    <tr>\n",
       "      <th>20</th>\n",
       "      <td>Tessin</td>\n",
       "      <td>25983.31954</td>\n",
       "      <td>25456.13959</td>\n",
       "      <td>26263.94483</td>\n",
       "      <td>26807.31416</td>\n",
       "      <td>27274.20299</td>\n",
       "      <td>28163.77736</td>\n",
       "      <td>28905.24315</td>\n",
       "      <td>28962.78689</td>\n",
       "    </tr>\n",
       "    <tr>\n",
       "      <th>21</th>\n",
       "      <td>Waadt</td>\n",
       "      <td>45311.33112</td>\n",
       "      <td>45287.96229</td>\n",
       "      <td>47234.81841</td>\n",
       "      <td>48735.92628</td>\n",
       "      <td>49525.04708</td>\n",
       "      <td>50537.96059</td>\n",
       "      <td>51995.95661</td>\n",
       "      <td>52381.90159</td>\n",
       "    </tr>\n",
       "    <tr>\n",
       "      <th>22</th>\n",
       "      <td>Wallis</td>\n",
       "      <td>15969.31827</td>\n",
       "      <td>16344.40063</td>\n",
       "      <td>16860.88825</td>\n",
       "      <td>17071.77462</td>\n",
       "      <td>17094.52958</td>\n",
       "      <td>17200.37466</td>\n",
       "      <td>17388.80683</td>\n",
       "      <td>17815.62425</td>\n",
       "    </tr>\n",
       "    <tr>\n",
       "      <th>23</th>\n",
       "      <td>Neuenburg</td>\n",
       "      <td>13339.12987</td>\n",
       "      <td>12493.88700</td>\n",
       "      <td>12892.09480</td>\n",
       "      <td>13938.81158</td>\n",
       "      <td>14435.48209</td>\n",
       "      <td>14633.73456</td>\n",
       "      <td>15019.29916</td>\n",
       "      <td>15564.74075</td>\n",
       "    </tr>\n",
       "    <tr>\n",
       "      <th>24</th>\n",
       "      <td>Genf</td>\n",
       "      <td>46700.80837</td>\n",
       "      <td>45413.49318</td>\n",
       "      <td>47078.98457</td>\n",
       "      <td>47085.34327</td>\n",
       "      <td>47060.39800</td>\n",
       "      <td>47626.02346</td>\n",
       "      <td>48086.16147</td>\n",
       "      <td>47353.68760</td>\n",
       "    </tr>\n",
       "    <tr>\n",
       "      <th>25</th>\n",
       "      <td>Jura</td>\n",
       "      <td>4266.35684</td>\n",
       "      <td>4007.11178</td>\n",
       "      <td>4137.38350</td>\n",
       "      <td>4282.68896</td>\n",
       "      <td>4367.07727</td>\n",
       "      <td>4554.59420</td>\n",
       "      <td>4684.47444</td>\n",
       "      <td>4608.14890</td>\n",
       "    </tr>\n",
       "  </tbody>\n",
       "</table>\n",
       "</div>"
      ],
      "text/plain": [
       "              Kanton          2008          2009          2010          2011  \\\n",
       "0             Zürich  131359.74779  128598.48877  130100.59227  133064.84582   \n",
       "1               Bern   72750.56084   71584.86949   74219.89185   75300.71702   \n",
       "2             Luzern   22720.98898   22245.78158   23810.92673   24165.45463   \n",
       "3                Uri    1752.93465    1757.71788    1777.83485    1841.33727   \n",
       "4             Schwyz    8223.13524    8338.64153    8479.15799    8453.44582   \n",
       "5           Obwalden    2178.22561    2165.70466    2315.14044    2344.47030   \n",
       "6          Nidwalden    2464.94304    2453.00679    2666.92107    2722.43704   \n",
       "7             Glarus    2497.85406    2429.59366    2495.72236    2555.84703   \n",
       "8                Zug   15704.93243   15597.93402   17188.26026   17360.24209   \n",
       "9           Freiburg   16039.88321   15647.52388   16210.29069   16590.79792   \n",
       "10         Solothurn   16362.95718   15754.85101   16309.95677   16584.83354   \n",
       "11       Basel-Stadt   30588.93190   30213.91048   30636.65106   31361.93837   \n",
       "12  Basel-Landschaft   18118.23254   17787.50971   18439.60322   18752.36118   \n",
       "13      Schaffhausen    6224.35981    6070.29276    6577.67682    6697.39515   \n",
       "14  Appenzell A. Rh.    2839.87314    2742.38646    2876.02060    2929.49956   \n",
       "15  Appenzell I. Rh.     834.21236     817.74906     882.14313     903.75548   \n",
       "16        St. Gallen   33496.25812   32494.36376   33910.85281   34632.99872   \n",
       "17        Graubünden   12615.50487   12637.89176   13065.40866   13352.88854   \n",
       "18            Aargau   37774.52858   36943.54089   37664.96637   38505.31274   \n",
       "19           Thurgau   14312.76458   13928.47050   14734.43121   15213.68411   \n",
       "20            Tessin   25983.31954   25456.13959   26263.94483   26807.31416   \n",
       "21             Waadt   45311.33112   45287.96229   47234.81841   48735.92628   \n",
       "22            Wallis   15969.31827   16344.40063   16860.88825   17071.77462   \n",
       "23         Neuenburg   13339.12987   12493.88700   12892.09480   13938.81158   \n",
       "24              Genf   46700.80837   45413.49318   47078.98457   47085.34327   \n",
       "25              Jura    4266.35684    4007.11178    4137.38350    4282.68896   \n",
       "\n",
       "            2012          2013          2014          2015  \n",
       "0   134962.96311  136996.44038  139178.97551  140705.79870  \n",
       "1    74749.24554   75958.67357   77484.09956   77931.53113  \n",
       "2    24604.05894   25123.08574   25786.98622   26268.34144  \n",
       "3     1816.73788    1857.68901    1858.10063    1919.98839  \n",
       "4     8550.76716    8820.41048    8922.73827    9185.14186  \n",
       "5     2335.90088    2348.20404    2382.15729    2439.71601  \n",
       "6     2741.98700    2889.86980    2952.46112    2968.42463  \n",
       "7     2562.83471    2654.73368    2702.95733    2718.56906  \n",
       "8    17546.61466   18642.40183   18159.90601   18494.72289  \n",
       "9    16670.02007   17454.62870   18056.59481   18143.94823  \n",
       "10   16723.23264   16978.23375   17352.49011   17500.99598  \n",
       "11   31957.72376   31800.89376   32254.04168   32291.77265  \n",
       "12   18618.27536   18816.86790   19412.13056   19400.21119  \n",
       "13    6754.15489    6832.52624    6860.43608    6885.93356  \n",
       "14    2922.34135    3012.62448    3067.68658    3069.62579  \n",
       "15     906.98315     933.83047     968.33051     979.82183  \n",
       "16   34656.79400   35437.52569   36149.88739   36054.29883  \n",
       "17   13511.90219   13734.51080   13951.15968   13980.72970  \n",
       "18   38719.76854   39488.54672   40139.27705   40065.31035  \n",
       "19   15345.08658   15678.79909   15997.98693   16043.43836  \n",
       "20   27274.20299   28163.77736   28905.24315   28962.78689  \n",
       "21   49525.04708   50537.96059   51995.95661   52381.90159  \n",
       "22   17094.52958   17200.37466   17388.80683   17815.62425  \n",
       "23   14435.48209   14633.73456   15019.29916   15564.74075  \n",
       "24   47060.39800   47626.02346   48086.16147   47353.68760  \n",
       "25    4367.07727    4554.59420    4684.47444    4608.14890  "
      ]
     },
     "execution_count": 85,
     "metadata": {},
     "output_type": "execute_result"
    }
   ],
   "source": [
    "df = df[df.Kanton != \"Schweiz\"]\n",
    "df"
   ]
  },
  {
   "cell_type": "markdown",
   "metadata": {},
   "source": [
    "# Stacked Barchart"
   ]
  },
  {
   "cell_type": "code",
   "execution_count": 86,
   "metadata": {},
   "outputs": [
    {
     "data": {
      "text/plain": [
       "<matplotlib.axes._subplots.AxesSubplot at 0x1184cf9d0>"
      ]
     },
     "execution_count": 86,
     "metadata": {},
     "output_type": "execute_result"
    },
    {
     "data": {
      "image/png": "[encoded data removed]",
      "text/plain": [
       "<matplotlib.figure.Figure at 0x11843ef50>"
      ]
     },
     "metadata": {},
     "output_type": "display_data"
    }
   ],
   "source": [
    "df.plot(kind=\"bar\",x=\"Kanton\",stacked=True)"
   ]
  },
  {
   "cell_type": "markdown",
   "metadata": {},
   "source": [
    "### Kippen dh. Transpose"
   ]
  },
  {
   "cell_type": "code",
   "execution_count": 73,
   "metadata": {},
   "outputs": [
    {
     "data": {
      "text/html": [
       "<div>\n",
       "<style scoped>\n",
       "    .dataframe tbody tr th:only-of-type {\n",
       "        vertical-align: middle;\n",
       "    }\n",
       "\n",
       "    .dataframe tbody tr th {\n",
       "        vertical-align: top;\n",
       "    }\n",
       "\n",
       "    .dataframe thead th {\n",
       "        text-align: right;\n",
       "    }\n",
       "</style>\n",
       "<table border=\"1\" class=\"dataframe\">\n",
       "  <thead>\n",
       "    <tr style=\"text-align: right;\">\n",
       "      <th>Kanton</th>\n",
       "      <th>Zürich</th>\n",
       "      <th>Bern</th>\n",
       "      <th>Luzern</th>\n",
       "      <th>Uri</th>\n",
       "      <th>Schwyz</th>\n",
       "      <th>Obwalden</th>\n",
       "      <th>Nidwalden</th>\n",
       "      <th>Glarus</th>\n",
       "      <th>Zug</th>\n",
       "      <th>Freiburg</th>\n",
       "      <th>...</th>\n",
       "      <th>Graubünden</th>\n",
       "      <th>Aargau</th>\n",
       "      <th>Thurgau</th>\n",
       "      <th>Tessin</th>\n",
       "      <th>Waadt</th>\n",
       "      <th>Wallis</th>\n",
       "      <th>Neuenburg</th>\n",
       "      <th>Genf</th>\n",
       "      <th>Jura</th>\n",
       "      <th>Schweiz</th>\n",
       "    </tr>\n",
       "  </thead>\n",
       "  <tbody>\n",
       "    <tr>\n",
       "      <th>2008</th>\n",
       "      <td>131359.74779</td>\n",
       "      <td>72750.56084</td>\n",
       "      <td>22720.98898</td>\n",
       "      <td>1752.93465</td>\n",
       "      <td>8223.13524</td>\n",
       "      <td>2178.22561</td>\n",
       "      <td>2464.94304</td>\n",
       "      <td>2497.85406</td>\n",
       "      <td>15704.93243</td>\n",
       "      <td>16039.88321</td>\n",
       "      <td>...</td>\n",
       "      <td>12615.50487</td>\n",
       "      <td>37774.52858</td>\n",
       "      <td>14312.76458</td>\n",
       "      <td>25983.31954</td>\n",
       "      <td>45311.33112</td>\n",
       "      <td>15969.31827</td>\n",
       "      <td>13339.12987</td>\n",
       "      <td>46700.80837</td>\n",
       "      <td>4266.35684</td>\n",
       "      <td>600431.09294</td>\n",
       "    </tr>\n",
       "    <tr>\n",
       "      <th>2009</th>\n",
       "      <td>128598.48877</td>\n",
       "      <td>71584.86949</td>\n",
       "      <td>22245.78158</td>\n",
       "      <td>1757.71788</td>\n",
       "      <td>8338.64153</td>\n",
       "      <td>2165.70466</td>\n",
       "      <td>2453.00679</td>\n",
       "      <td>2429.59366</td>\n",
       "      <td>15597.93402</td>\n",
       "      <td>15647.52388</td>\n",
       "      <td>...</td>\n",
       "      <td>12637.89176</td>\n",
       "      <td>36943.54089</td>\n",
       "      <td>13928.47050</td>\n",
       "      <td>25456.13959</td>\n",
       "      <td>45287.96229</td>\n",
       "      <td>16344.40063</td>\n",
       "      <td>12493.88700</td>\n",
       "      <td>45413.49318</td>\n",
       "      <td>4007.11178</td>\n",
       "      <td>589213.22310</td>\n",
       "    </tr>\n",
       "    <tr>\n",
       "      <th>2010</th>\n",
       "      <td>130100.59227</td>\n",
       "      <td>74219.89185</td>\n",
       "      <td>23810.92673</td>\n",
       "      <td>1777.83485</td>\n",
       "      <td>8479.15799</td>\n",
       "      <td>2315.14044</td>\n",
       "      <td>2666.92107</td>\n",
       "      <td>2495.72236</td>\n",
       "      <td>17188.26026</td>\n",
       "      <td>16210.29069</td>\n",
       "      <td>...</td>\n",
       "      <td>13065.40866</td>\n",
       "      <td>37664.96637</td>\n",
       "      <td>14734.43121</td>\n",
       "      <td>26263.94483</td>\n",
       "      <td>47234.81841</td>\n",
       "      <td>16860.88825</td>\n",
       "      <td>12892.09480</td>\n",
       "      <td>47078.98457</td>\n",
       "      <td>4137.38350</td>\n",
       "      <td>608830.56353</td>\n",
       "    </tr>\n",
       "    <tr>\n",
       "      <th>2011</th>\n",
       "      <td>133064.84582</td>\n",
       "      <td>75300.71702</td>\n",
       "      <td>24165.45463</td>\n",
       "      <td>1841.33727</td>\n",
       "      <td>8453.44582</td>\n",
       "      <td>2344.47030</td>\n",
       "      <td>2722.43704</td>\n",
       "      <td>2555.84703</td>\n",
       "      <td>17360.24209</td>\n",
       "      <td>16590.79792</td>\n",
       "      <td>...</td>\n",
       "      <td>13352.88854</td>\n",
       "      <td>38505.31274</td>\n",
       "      <td>15213.68411</td>\n",
       "      <td>26807.31416</td>\n",
       "      <td>48735.92628</td>\n",
       "      <td>17071.77462</td>\n",
       "      <td>13938.81158</td>\n",
       "      <td>47085.34327</td>\n",
       "      <td>4282.68896</td>\n",
       "      <td>621256.12120</td>\n",
       "    </tr>\n",
       "    <tr>\n",
       "      <th>2012</th>\n",
       "      <td>134962.96311</td>\n",
       "      <td>74749.24554</td>\n",
       "      <td>24604.05894</td>\n",
       "      <td>1816.73788</td>\n",
       "      <td>8550.76716</td>\n",
       "      <td>2335.90088</td>\n",
       "      <td>2741.98700</td>\n",
       "      <td>2562.83471</td>\n",
       "      <td>17546.61466</td>\n",
       "      <td>16670.02007</td>\n",
       "      <td>...</td>\n",
       "      <td>13511.90219</td>\n",
       "      <td>38719.76854</td>\n",
       "      <td>15345.08658</td>\n",
       "      <td>27274.20299</td>\n",
       "      <td>49525.04708</td>\n",
       "      <td>17094.52958</td>\n",
       "      <td>14435.48209</td>\n",
       "      <td>47060.39800</td>\n",
       "      <td>4367.07727</td>\n",
       "      <td>626414.12945</td>\n",
       "    </tr>\n",
       "    <tr>\n",
       "      <th>2013</th>\n",
       "      <td>136996.44038</td>\n",
       "      <td>75958.67357</td>\n",
       "      <td>25123.08574</td>\n",
       "      <td>1857.68901</td>\n",
       "      <td>8820.41048</td>\n",
       "      <td>2348.20404</td>\n",
       "      <td>2889.86980</td>\n",
       "      <td>2654.73368</td>\n",
       "      <td>18642.40183</td>\n",
       "      <td>17454.62870</td>\n",
       "      <td>...</td>\n",
       "      <td>13734.51080</td>\n",
       "      <td>39488.54672</td>\n",
       "      <td>15678.79909</td>\n",
       "      <td>28163.77736</td>\n",
       "      <td>50537.96059</td>\n",
       "      <td>17200.37466</td>\n",
       "      <td>14633.73456</td>\n",
       "      <td>47626.02346</td>\n",
       "      <td>4554.59420</td>\n",
       "      <td>638176.96097</td>\n",
       "    </tr>\n",
       "    <tr>\n",
       "      <th>2014</th>\n",
       "      <td>139178.97551</td>\n",
       "      <td>77484.09956</td>\n",
       "      <td>25786.98622</td>\n",
       "      <td>1858.10063</td>\n",
       "      <td>8922.73827</td>\n",
       "      <td>2382.15729</td>\n",
       "      <td>2952.46112</td>\n",
       "      <td>2702.95733</td>\n",
       "      <td>18159.90601</td>\n",
       "      <td>18056.59481</td>\n",
       "      <td>...</td>\n",
       "      <td>13951.15968</td>\n",
       "      <td>40139.27705</td>\n",
       "      <td>15997.98693</td>\n",
       "      <td>28905.24315</td>\n",
       "      <td>51995.95661</td>\n",
       "      <td>17388.80683</td>\n",
       "      <td>15019.29916</td>\n",
       "      <td>48086.16147</td>\n",
       "      <td>4684.47444</td>\n",
       "      <td>649718.34497</td>\n",
       "    </tr>\n",
       "    <tr>\n",
       "      <th>2015</th>\n",
       "      <td>140705.79870</td>\n",
       "      <td>77931.53113</td>\n",
       "      <td>26268.34144</td>\n",
       "      <td>1919.98839</td>\n",
       "      <td>9185.14186</td>\n",
       "      <td>2439.71601</td>\n",
       "      <td>2968.42463</td>\n",
       "      <td>2718.56906</td>\n",
       "      <td>18494.72289</td>\n",
       "      <td>18143.94823</td>\n",
       "      <td>...</td>\n",
       "      <td>13980.72970</td>\n",
       "      <td>40065.31035</td>\n",
       "      <td>16043.43836</td>\n",
       "      <td>28962.78689</td>\n",
       "      <td>52381.90159</td>\n",
       "      <td>17815.62425</td>\n",
       "      <td>15564.74075</td>\n",
       "      <td>47353.68760</td>\n",
       "      <td>4608.14890</td>\n",
       "      <td>653735.21054</td>\n",
       "    </tr>\n",
       "  </tbody>\n",
       "</table>\n",
       "<p>8 rows × 27 columns</p>\n",
       "</div>"
      ],
      "text/plain": [
       "Kanton        Zürich         Bern       Luzern         Uri      Schwyz  \\\n",
       "2008    131359.74779  72750.56084  22720.98898  1752.93465  8223.13524   \n",
       "2009    128598.48877  71584.86949  22245.78158  1757.71788  8338.64153   \n",
       "2010    130100.59227  74219.89185  23810.92673  1777.83485  8479.15799   \n",
       "2011    133064.84582  75300.71702  24165.45463  1841.33727  8453.44582   \n",
       "2012    134962.96311  74749.24554  24604.05894  1816.73788  8550.76716   \n",
       "2013    136996.44038  75958.67357  25123.08574  1857.68901  8820.41048   \n",
       "2014    139178.97551  77484.09956  25786.98622  1858.10063  8922.73827   \n",
       "2015    140705.79870  77931.53113  26268.34144  1919.98839  9185.14186   \n",
       "\n",
       "Kanton    Obwalden   Nidwalden      Glarus          Zug     Freiburg  \\\n",
       "2008    2178.22561  2464.94304  2497.85406  15704.93243  16039.88321   \n",
       "2009    2165.70466  2453.00679  2429.59366  15597.93402  15647.52388   \n",
       "2010    2315.14044  2666.92107  2495.72236  17188.26026  16210.29069   \n",
       "2011    2344.47030  2722.43704  2555.84703  17360.24209  16590.79792   \n",
       "2012    2335.90088  2741.98700  2562.83471  17546.61466  16670.02007   \n",
       "2013    2348.20404  2889.86980  2654.73368  18642.40183  17454.62870   \n",
       "2014    2382.15729  2952.46112  2702.95733  18159.90601  18056.59481   \n",
       "2015    2439.71601  2968.42463  2718.56906  18494.72289  18143.94823   \n",
       "\n",
       "Kanton      ...        Graubünden       Aargau      Thurgau       Tessin  \\\n",
       "2008        ...       12615.50487  37774.52858  14312.76458  25983.31954   \n",
       "2009        ...       12637.89176  36943.54089  13928.47050  25456.13959   \n",
       "2010        ...       13065.40866  37664.96637  14734.43121  26263.94483   \n",
       "2011        ...       13352.88854  38505.31274  15213.68411  26807.31416   \n",
       "2012        ...       13511.90219  38719.76854  15345.08658  27274.20299   \n",
       "2013        ...       13734.51080  39488.54672  15678.79909  28163.77736   \n",
       "2014        ...       13951.15968  40139.27705  15997.98693  28905.24315   \n",
       "2015        ...       13980.72970  40065.31035  16043.43836  28962.78689   \n",
       "\n",
       "Kanton        Waadt       Wallis    Neuenburg         Genf        Jura  \\\n",
       "2008    45311.33112  15969.31827  13339.12987  46700.80837  4266.35684   \n",
       "2009    45287.96229  16344.40063  12493.88700  45413.49318  4007.11178   \n",
       "2010    47234.81841  16860.88825  12892.09480  47078.98457  4137.38350   \n",
       "2011    48735.92628  17071.77462  13938.81158  47085.34327  4282.68896   \n",
       "2012    49525.04708  17094.52958  14435.48209  47060.39800  4367.07727   \n",
       "2013    50537.96059  17200.37466  14633.73456  47626.02346  4554.59420   \n",
       "2014    51995.95661  17388.80683  15019.29916  48086.16147  4684.47444   \n",
       "2015    52381.90159  17815.62425  15564.74075  47353.68760  4608.14890   \n",
       "\n",
       "Kanton       Schweiz  \n",
       "2008    600431.09294  \n",
       "2009    589213.22310  \n",
       "2010    608830.56353  \n",
       "2011    621256.12120  \n",
       "2012    626414.12945  \n",
       "2013    638176.96097  \n",
       "2014    649718.34497  \n",
       "2015    653735.21054  \n",
       "\n",
       "[8 rows x 27 columns]"
      ]
     },
     "execution_count": 73,
     "metadata": {},
     "output_type": "execute_result"
    }
   ],
   "source": [
    "df_gekippt = df.set_index('Kanton',inplace=False)\n",
    "df_gekippt = df_gekippt.T\n",
    "df_gekippt"
   ]
  },
  {
   "cell_type": "markdown",
   "metadata": {},
   "source": [
    "### Columns filtern"
   ]
  },
  {
   "cell_type": "code",
   "execution_count": 82,
   "metadata": {},
   "outputs": [
    {
     "data": {
      "text/html": [
       "<div>\n",
       "<style scoped>\n",
       "    .dataframe tbody tr th:only-of-type {\n",
       "        vertical-align: middle;\n",
       "    }\n",
       "\n",
       "    .dataframe tbody tr th {\n",
       "        vertical-align: top;\n",
       "    }\n",
       "\n",
       "    .dataframe thead th {\n",
       "        text-align: right;\n",
       "    }\n",
       "</style>\n",
       "<table border=\"1\" class=\"dataframe\">\n",
       "  <thead>\n",
       "    <tr style=\"text-align: right;\">\n",
       "      <th>Kanton</th>\n",
       "      <th>Zürich</th>\n",
       "      <th>Bern</th>\n",
       "      <th>Luzern</th>\n",
       "      <th>Uri</th>\n",
       "      <th>Schwyz</th>\n",
       "      <th>Obwalden</th>\n",
       "      <th>Nidwalden</th>\n",
       "      <th>Glarus</th>\n",
       "      <th>Zug</th>\n",
       "      <th>Freiburg</th>\n",
       "      <th>...</th>\n",
       "      <th>St. Gallen</th>\n",
       "      <th>Graubünden</th>\n",
       "      <th>Aargau</th>\n",
       "      <th>Thurgau</th>\n",
       "      <th>Tessin</th>\n",
       "      <th>Waadt</th>\n",
       "      <th>Wallis</th>\n",
       "      <th>Neuenburg</th>\n",
       "      <th>Genf</th>\n",
       "      <th>Jura</th>\n",
       "    </tr>\n",
       "  </thead>\n",
       "  <tbody>\n",
       "    <tr>\n",
       "      <th>2008</th>\n",
       "      <td>131359.74779</td>\n",
       "      <td>72750.56084</td>\n",
       "      <td>22720.98898</td>\n",
       "      <td>1752.93465</td>\n",
       "      <td>8223.13524</td>\n",
       "      <td>2178.22561</td>\n",
       "      <td>2464.94304</td>\n",
       "      <td>2497.85406</td>\n",
       "      <td>15704.93243</td>\n",
       "      <td>16039.88321</td>\n",
       "      <td>...</td>\n",
       "      <td>33496.25812</td>\n",
       "      <td>12615.50487</td>\n",
       "      <td>37774.52858</td>\n",
       "      <td>14312.76458</td>\n",
       "      <td>25983.31954</td>\n",
       "      <td>45311.33112</td>\n",
       "      <td>15969.31827</td>\n",
       "      <td>13339.12987</td>\n",
       "      <td>46700.80837</td>\n",
       "      <td>4266.35684</td>\n",
       "    </tr>\n",
       "    <tr>\n",
       "      <th>2009</th>\n",
       "      <td>128598.48877</td>\n",
       "      <td>71584.86949</td>\n",
       "      <td>22245.78158</td>\n",
       "      <td>1757.71788</td>\n",
       "      <td>8338.64153</td>\n",
       "      <td>2165.70466</td>\n",
       "      <td>2453.00679</td>\n",
       "      <td>2429.59366</td>\n",
       "      <td>15597.93402</td>\n",
       "      <td>15647.52388</td>\n",
       "      <td>...</td>\n",
       "      <td>32494.36376</td>\n",
       "      <td>12637.89176</td>\n",
       "      <td>36943.54089</td>\n",
       "      <td>13928.47050</td>\n",
       "      <td>25456.13959</td>\n",
       "      <td>45287.96229</td>\n",
       "      <td>16344.40063</td>\n",
       "      <td>12493.88700</td>\n",
       "      <td>45413.49318</td>\n",
       "      <td>4007.11178</td>\n",
       "    </tr>\n",
       "    <tr>\n",
       "      <th>2010</th>\n",
       "      <td>130100.59227</td>\n",
       "      <td>74219.89185</td>\n",
       "      <td>23810.92673</td>\n",
       "      <td>1777.83485</td>\n",
       "      <td>8479.15799</td>\n",
       "      <td>2315.14044</td>\n",
       "      <td>2666.92107</td>\n",
       "      <td>2495.72236</td>\n",
       "      <td>17188.26026</td>\n",
       "      <td>16210.29069</td>\n",
       "      <td>...</td>\n",
       "      <td>33910.85281</td>\n",
       "      <td>13065.40866</td>\n",
       "      <td>37664.96637</td>\n",
       "      <td>14734.43121</td>\n",
       "      <td>26263.94483</td>\n",
       "      <td>47234.81841</td>\n",
       "      <td>16860.88825</td>\n",
       "      <td>12892.09480</td>\n",
       "      <td>47078.98457</td>\n",
       "      <td>4137.38350</td>\n",
       "    </tr>\n",
       "    <tr>\n",
       "      <th>2011</th>\n",
       "      <td>133064.84582</td>\n",
       "      <td>75300.71702</td>\n",
       "      <td>24165.45463</td>\n",
       "      <td>1841.33727</td>\n",
       "      <td>8453.44582</td>\n",
       "      <td>2344.47030</td>\n",
       "      <td>2722.43704</td>\n",
       "      <td>2555.84703</td>\n",
       "      <td>17360.24209</td>\n",
       "      <td>16590.79792</td>\n",
       "      <td>...</td>\n",
       "      <td>34632.99872</td>\n",
       "      <td>13352.88854</td>\n",
       "      <td>38505.31274</td>\n",
       "      <td>15213.68411</td>\n",
       "      <td>26807.31416</td>\n",
       "      <td>48735.92628</td>\n",
       "      <td>17071.77462</td>\n",
       "      <td>13938.81158</td>\n",
       "      <td>47085.34327</td>\n",
       "      <td>4282.68896</td>\n",
       "    </tr>\n",
       "    <tr>\n",
       "      <th>2012</th>\n",
       "      <td>134962.96311</td>\n",
       "      <td>74749.24554</td>\n",
       "      <td>24604.05894</td>\n",
       "      <td>1816.73788</td>\n",
       "      <td>8550.76716</td>\n",
       "      <td>2335.90088</td>\n",
       "      <td>2741.98700</td>\n",
       "      <td>2562.83471</td>\n",
       "      <td>17546.61466</td>\n",
       "      <td>16670.02007</td>\n",
       "      <td>...</td>\n",
       "      <td>34656.79400</td>\n",
       "      <td>13511.90219</td>\n",
       "      <td>38719.76854</td>\n",
       "      <td>15345.08658</td>\n",
       "      <td>27274.20299</td>\n",
       "      <td>49525.04708</td>\n",
       "      <td>17094.52958</td>\n",
       "      <td>14435.48209</td>\n",
       "      <td>47060.39800</td>\n",
       "      <td>4367.07727</td>\n",
       "    </tr>\n",
       "    <tr>\n",
       "      <th>2013</th>\n",
       "      <td>136996.44038</td>\n",
       "      <td>75958.67357</td>\n",
       "      <td>25123.08574</td>\n",
       "      <td>1857.68901</td>\n",
       "      <td>8820.41048</td>\n",
       "      <td>2348.20404</td>\n",
       "      <td>2889.86980</td>\n",
       "      <td>2654.73368</td>\n",
       "      <td>18642.40183</td>\n",
       "      <td>17454.62870</td>\n",
       "      <td>...</td>\n",
       "      <td>35437.52569</td>\n",
       "      <td>13734.51080</td>\n",
       "      <td>39488.54672</td>\n",
       "      <td>15678.79909</td>\n",
       "      <td>28163.77736</td>\n",
       "      <td>50537.96059</td>\n",
       "      <td>17200.37466</td>\n",
       "      <td>14633.73456</td>\n",
       "      <td>47626.02346</td>\n",
       "      <td>4554.59420</td>\n",
       "    </tr>\n",
       "    <tr>\n",
       "      <th>2014</th>\n",
       "      <td>139178.97551</td>\n",
       "      <td>77484.09956</td>\n",
       "      <td>25786.98622</td>\n",
       "      <td>1858.10063</td>\n",
       "      <td>8922.73827</td>\n",
       "      <td>2382.15729</td>\n",
       "      <td>2952.46112</td>\n",
       "      <td>2702.95733</td>\n",
       "      <td>18159.90601</td>\n",
       "      <td>18056.59481</td>\n",
       "      <td>...</td>\n",
       "      <td>36149.88739</td>\n",
       "      <td>13951.15968</td>\n",
       "      <td>40139.27705</td>\n",
       "      <td>15997.98693</td>\n",
       "      <td>28905.24315</td>\n",
       "      <td>51995.95661</td>\n",
       "      <td>17388.80683</td>\n",
       "      <td>15019.29916</td>\n",
       "      <td>48086.16147</td>\n",
       "      <td>4684.47444</td>\n",
       "    </tr>\n",
       "    <tr>\n",
       "      <th>2015</th>\n",
       "      <td>140705.79870</td>\n",
       "      <td>77931.53113</td>\n",
       "      <td>26268.34144</td>\n",
       "      <td>1919.98839</td>\n",
       "      <td>9185.14186</td>\n",
       "      <td>2439.71601</td>\n",
       "      <td>2968.42463</td>\n",
       "      <td>2718.56906</td>\n",
       "      <td>18494.72289</td>\n",
       "      <td>18143.94823</td>\n",
       "      <td>...</td>\n",
       "      <td>36054.29883</td>\n",
       "      <td>13980.72970</td>\n",
       "      <td>40065.31035</td>\n",
       "      <td>16043.43836</td>\n",
       "      <td>28962.78689</td>\n",
       "      <td>52381.90159</td>\n",
       "      <td>17815.62425</td>\n",
       "      <td>15564.74075</td>\n",
       "      <td>47353.68760</td>\n",
       "      <td>4608.14890</td>\n",
       "    </tr>\n",
       "  </tbody>\n",
       "</table>\n",
       "<p>8 rows × 26 columns</p>\n",
       "</div>"
      ],
      "text/plain": [
       "Kanton        Zürich         Bern       Luzern         Uri      Schwyz  \\\n",
       "2008    131359.74779  72750.56084  22720.98898  1752.93465  8223.13524   \n",
       "2009    128598.48877  71584.86949  22245.78158  1757.71788  8338.64153   \n",
       "2010    130100.59227  74219.89185  23810.92673  1777.83485  8479.15799   \n",
       "2011    133064.84582  75300.71702  24165.45463  1841.33727  8453.44582   \n",
       "2012    134962.96311  74749.24554  24604.05894  1816.73788  8550.76716   \n",
       "2013    136996.44038  75958.67357  25123.08574  1857.68901  8820.41048   \n",
       "2014    139178.97551  77484.09956  25786.98622  1858.10063  8922.73827   \n",
       "2015    140705.79870  77931.53113  26268.34144  1919.98839  9185.14186   \n",
       "\n",
       "Kanton    Obwalden   Nidwalden      Glarus          Zug     Freiburg  \\\n",
       "2008    2178.22561  2464.94304  2497.85406  15704.93243  16039.88321   \n",
       "2009    2165.70466  2453.00679  2429.59366  15597.93402  15647.52388   \n",
       "2010    2315.14044  2666.92107  2495.72236  17188.26026  16210.29069   \n",
       "2011    2344.47030  2722.43704  2555.84703  17360.24209  16590.79792   \n",
       "2012    2335.90088  2741.98700  2562.83471  17546.61466  16670.02007   \n",
       "2013    2348.20404  2889.86980  2654.73368  18642.40183  17454.62870   \n",
       "2014    2382.15729  2952.46112  2702.95733  18159.90601  18056.59481   \n",
       "2015    2439.71601  2968.42463  2718.56906  18494.72289  18143.94823   \n",
       "\n",
       "Kanton     ...       St. Gallen   Graubünden       Aargau      Thurgau  \\\n",
       "2008       ...      33496.25812  12615.50487  37774.52858  14312.76458   \n",
       "2009       ...      32494.36376  12637.89176  36943.54089  13928.47050   \n",
       "2010       ...      33910.85281  13065.40866  37664.96637  14734.43121   \n",
       "2011       ...      34632.99872  13352.88854  38505.31274  15213.68411   \n",
       "2012       ...      34656.79400  13511.90219  38719.76854  15345.08658   \n",
       "2013       ...      35437.52569  13734.51080  39488.54672  15678.79909   \n",
       "2014       ...      36149.88739  13951.15968  40139.27705  15997.98693   \n",
       "2015       ...      36054.29883  13980.72970  40065.31035  16043.43836   \n",
       "\n",
       "Kanton       Tessin        Waadt       Wallis    Neuenburg         Genf  \\\n",
       "2008    25983.31954  45311.33112  15969.31827  13339.12987  46700.80837   \n",
       "2009    25456.13959  45287.96229  16344.40063  12493.88700  45413.49318   \n",
       "2010    26263.94483  47234.81841  16860.88825  12892.09480  47078.98457   \n",
       "2011    26807.31416  48735.92628  17071.77462  13938.81158  47085.34327   \n",
       "2012    27274.20299  49525.04708  17094.52958  14435.48209  47060.39800   \n",
       "2013    28163.77736  50537.96059  17200.37466  14633.73456  47626.02346   \n",
       "2014    28905.24315  51995.95661  17388.80683  15019.29916  48086.16147   \n",
       "2015    28962.78689  52381.90159  17815.62425  15564.74075  47353.68760   \n",
       "\n",
       "Kanton        Jura  \n",
       "2008    4266.35684  \n",
       "2009    4007.11178  \n",
       "2010    4137.38350  \n",
       "2011    4282.68896  \n",
       "2012    4367.07727  \n",
       "2013    4554.59420  \n",
       "2014    4684.47444  \n",
       "2015    4608.14890  \n",
       "\n",
       "[8 rows x 26 columns]"
      ]
     },
     "execution_count": 82,
     "metadata": {},
     "output_type": "execute_result"
    }
   ],
   "source": [
    "df_gekippt_gefiltert = df_gekippt.loc[:,u\"Zürich\":\"Jura\"]\n",
    "df_gekippt_gefiltert"
   ]
  },
  {
   "cell_type": "markdown",
   "metadata": {},
   "source": [
    "## Stacked Barchart"
   ]
  },
  {
   "cell_type": "code",
   "execution_count": 83,
   "metadata": {},
   "outputs": [
    {
     "data": {
      "text/plain": [
       "<matplotlib.axes._subplots.AxesSubplot at 0x117349f50>"
      ]
     },
     "execution_count": 83,
     "metadata": {},
     "output_type": "execute_result"
    },
    {
     "data": {
      "image/png": "[encoded data removed]",
      "text/plain": [
       "<matplotlib.figure.Figure at 0x11730dc50>"
      ]
     },
     "metadata": {},
     "output_type": "display_data"
    }
   ],
   "source": [
    "df_gekippt_gefiltert.plot(kind=\"bar\",stacked=True,figsize=(20,10))"
   ]
  },
  {
   "cell_type": "markdown",
   "metadata": {},
   "source": [
    "## Stacked Columnchart"
   ]
  },
  {
   "cell_type": "code",
   "execution_count": 88,
   "metadata": {},
   "outputs": [
    {
     "data": {
      "text/plain": [
       "<matplotlib.axes._subplots.AxesSubplot at 0x118cf1950>"
      ]
     },
     "execution_count": 88,
     "metadata": {},
     "output_type": "execute_result"
    },
    {
     "data": {
      "image/png": "[encoded data removed]",
      "text/plain": [
       "<matplotlib.figure.Figure at 0x1182cda50>"
      ]
     },
     "metadata": {},
     "output_type": "display_data"
    }
   ],
   "source": [
    "df_gekippt_gefiltert.plot(kind=\"barh\",stacked=True,figsize=(20,10))"
   ]
  },
  {
   "cell_type": "markdown",
   "metadata": {},
   "source": [
    "### Stacked Columnchart andere Farben"
   ]
  },
  {
   "cell_type": "code",
   "execution_count": 132,
   "metadata": {},
   "outputs": [
    {
     "data": {
      "text/plain": [
       "['red',\n",
       " 'gray',\n",
       " 'gray',\n",
       " 'gray',\n",
       " 'gray',\n",
       " 'gray',\n",
       " 'gray',\n",
       " 'gray',\n",
       " 'gray',\n",
       " 'gray',\n",
       " 'gray',\n",
       " 'gray',\n",
       " 'gray',\n",
       " 'gray',\n",
       " 'gray',\n",
       " 'gray',\n",
       " 'gray',\n",
       " 'gray',\n",
       " 'gray',\n",
       " 'gray',\n",
       " 'gray',\n",
       " 'gray',\n",
       " 'gray',\n",
       " 'gray',\n",
       " 'gray',\n",
       " 'green']"
      ]
     },
     "execution_count": 132,
     "metadata": {},
     "output_type": "execute_result"
    }
   ],
   "source": [
    "colors = [\"red\"]+[\"gray\"]*24+[\"green\"]\n",
    "colors"
   ]
  },
  {
   "cell_type": "code",
   "execution_count": 133,
   "metadata": {},
   "outputs": [
    {
     "data": {
      "text/plain": [
       "<matplotlib.axes._subplots.AxesSubplot at 0x11c8228d0>"
      ]
     },
     "execution_count": 133,
     "metadata": {},
     "output_type": "execute_result"
    },
    {
     "data": {
      "image/png": "[encoded data removed]",
      "text/plain": [
       "<matplotlib.figure.Figure at 0x11c7cfd10>"
      ]
     },
     "metadata": {},
     "output_type": "display_data"
    }
   ],
   "source": [
    "df_gekippt_gefiltert.plot(kind=\"barh\",stacked=True,figsize=(20,10),color=colors)"
   ]
  },
  {
   "cell_type": "markdown",
   "metadata": {},
   "source": [
    "### Weitere coole Beispiele:\n",
    "- http://jonathansoma.com/lede/data-studio/classes/tufte/matplotlib-styles-data-ink-and-annotation/"
   ]
  },
  {
   "cell_type": "markdown",
   "metadata": {},
   "source": [
    "## Waterfall charts"
   ]
  },
  {
   "cell_type": "markdown",
   "metadata": {},
   "source": [
    "Installation mit `pip install waterfallcharts`"
   ]
  },
  {
   "cell_type": "code",
   "execution_count": 3,
   "metadata": {},
   "outputs": [
    {
     "data": {
      "image/png": "[encoded data removed]",
      "text/plain": [
       "<matplotlib.figure.Figure at 0x109016b90>"
      ]
     },
     "metadata": {},
     "output_type": "display_data"
    }
   ],
   "source": [
    "import waterfall_chart\n",
    "\n",
    "a = ['reisebudget','tanken',u'maut gebühren','hotels','geld gefunden','shoppen']\n",
    "b = [1000,-300,-70,-250,95,-70]\n",
    "\n",
    "my_plot = waterfall_chart.plot(a, b)\n"
   ]
  },
  {
   "cell_type": "markdown",
   "metadata": {},
   "source": [
    "## Slopegraphs"
   ]
  },
  {
   "cell_type": "markdown",
   "metadata": {},
   "source": [
    "- bisher leider nicht einfach möglich mit pandas."
   ]
  },
  {
   "cell_type": "code",
   "execution_count": null,
   "metadata": {},
   "outputs": [],
   "source": []
  }
 ],
 "metadata": {
  "kernelspec": {
   "display_name": "Python 3 (ipykernel)",
   "language": "python",
   "name": "python3"
  },
  "language_info": {
   "codemirror_mode": {
    "name": "ipython",
    "version": 3
   },
   "file_extension": ".py",
   "mimetype": "text/x-python",
   "name": "python",
   "nbconvert_exporter": "python",
   "pygments_lexer": "ipython3",
   "version": "3.9.12"
  }
 },
 "nbformat": 4,
 "nbformat_minor": 2
}
